{
  "nbformat": 4,
  "nbformat_minor": 0,
  "metadata": {
    "colab": {
      "provenance": [],
      "authorship_tag": "ABX9TyPScdOwIRErzW26WOlqLknu",
      "include_colab_link": true
    },
    "kernelspec": {
      "name": "python3",
      "display_name": "Python 3"
    },
    "language_info": {
      "name": "python"
    }
  },
  "cells": [
    {
      "cell_type": "markdown",
      "metadata": {
        "id": "view-in-github",
        "colab_type": "text"
      },
      "source": [
        "<a href=\"https://colab.research.google.com/github/Jeze2/Prediction-of-product-sales/blob/main/Copy_of_Product_sales.ipynb\" target=\"_parent\"><img src=\"https://colab.research.google.com/assets/colab-badge.svg\" alt=\"Open In Colab\"/></a>"
      ]
    },
    {
      "cell_type": "markdown",
      "source": [
        "# Prediction of Product Sales\n",
        "-Gabriel Pantoja\n"
      ],
      "metadata": {
        "id": "tbk7EwGhNVkV"
      }
    },
    {
      "cell_type": "markdown",
      "source": [
        "## Project Overview\n",
        "\n"
      ],
      "metadata": {
        "id": "Ge1Mmv-cn_BY"
      }
    },
    {
      "cell_type": "code",
      "source": [],
      "metadata": {
        "id": "rWpWWwWsoAl5"
      },
      "execution_count": null,
      "outputs": []
    },
    {
      "cell_type": "markdown",
      "source": [
        "## Load and Inspect Data\n",
        "\n"
      ],
      "metadata": {
        "id": "onjlNwEVoBXt"
      }
    },
    {
      "cell_type": "code",
      "source": [],
      "metadata": {
        "id": "nhPnMdSIoD9m"
      },
      "execution_count": null,
      "outputs": []
    },
    {
      "cell_type": "markdown",
      "source": [
        "## Clean Data\n",
        "\n"
      ],
      "metadata": {
        "id": "m8v0CL5foEbB"
      }
    },
    {
      "cell_type": "code",
      "source": [],
      "metadata": {
        "id": "DazgKyhJoGGL"
      },
      "execution_count": null,
      "outputs": []
    },
    {
      "cell_type": "markdown",
      "source": [
        "##Exploratory Data Analysis\n",
        "\n"
      ],
      "metadata": {
        "id": "dNreGFBboGh7"
      }
    },
    {
      "cell_type": "code",
      "source": [],
      "metadata": {
        "id": "F7O2cWpboH89"
      },
      "execution_count": null,
      "outputs": []
    },
    {
      "cell_type": "markdown",
      "source": [
        "##Exploratory Data Analysis"
      ],
      "metadata": {
        "id": "M9JSlAXMoIPE"
      }
    },
    {
      "cell_type": "code",
      "source": [],
      "metadata": {
        "id": "q9Xu852poJdd"
      },
      "execution_count": null,
      "outputs": []
    }
  ]
}
