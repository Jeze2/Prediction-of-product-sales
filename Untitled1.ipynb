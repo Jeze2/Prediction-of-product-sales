{
  "nbformat": 4,
  "nbformat_minor": 0,
  "metadata": {
    "colab": {
      "provenance": []
    },
    "kernelspec": {
      "name": "python3",
      "display_name": "Python 3"
    },
    "language_info": {
      "name": "python"
    }
  },
  "cells": [
    {
      "cell_type": "markdown",
      "source": [
        "# Prediction of Product Sales\n",
        "-Gabriel Pantoja\n",
        "## Project Overview\n",
        "\n",
        "## Load and Inspect Data\n",
        "\n",
        "## Clean Data\n",
        "\n",
        "##Exploratory Data Analysis\n",
        "\n",
        "##Exploratory Data Analysis"
      ],
      "metadata": {
        "id": "tbk7EwGhNVkV"
      }
    }
  ]
}