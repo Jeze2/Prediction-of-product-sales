{
  "nbformat": 4,
  "nbformat_minor": 0,
  "metadata": {
    "colab": {
      "provenance": [],
      "collapsed_sections": [
        "CTVmUXVnoGp0",
        "t4VzfV4gitk5",
        "EXeneBJmkrAY",
        "ZaBNjMzRo2cC",
        "ALkAT9sjg4Ki"
      ],
      "include_colab_link": true
    },
    "kernelspec": {
      "name": "python3",
      "display_name": "Python 3"
    },
    "language_info": {
      "name": "python"
    }
  },
  "cells": [
    {
      "cell_type": "markdown",
      "metadata": {
        "id": "view-in-github",
        "colab_type": "text"
      },
      "source": [
        "<a href=\"https://colab.research.google.com/github/Jeze2/Prediction-of-product-sales/blob/main/Data_Cleaning.ipynb\" target=\"_parent\"><img src=\"https://colab.research.google.com/assets/colab-badge.svg\" alt=\"Open In Colab\"/></a>"
      ]
    },
    {
      "cell_type": "markdown",
      "source": [
        "# Data Cleaning Core [Starter Notebook]\n",
        "\n"
      ],
      "metadata": {
        "id": "OO_lHblPMbz5"
      }
    },
    {
      "cell_type": "markdown",
      "source": [
        "- Student Name:\n",
        "\n",
        "    -Gabriel Pantoja\n",
        "\n",
        "\n"
      ],
      "metadata": {
        "id": "vN3u6cWVFYUC"
      }
    },
    {
      "cell_type": "markdown",
      "source": [
        "bold text## The Data"
      ],
      "metadata": {
        "id": "juh5JMRRHLe_"
      }
    },
    {
      "cell_type": "markdown",
      "source": [
        "You will be working with a modified version of the Titanitc dataset:\n",
        "\n",
        "- [(Modified) Titanic Data](https://drive.google.com/file/d/1Uw7RzQMYSARCFnzJQqqNlZpUouXr16-8/view?usp=sharing)\n",
        "\n",
        "- [Data Dictionary](https://docs.google.com/document/d/1uEeANvKURYmu-HUDGzbGlMmvAUwooatUg-gHUCDMh-Y/edit?usp=sharing)\n",
        "\n",
        "___\n",
        "\n",
        "- Save the files to your Course 1 > Week 2 > Data Folder.\n"
      ],
      "metadata": {
        "id": "WjZIviC2A_eM"
      }
    },
    {
      "cell_type": "markdown",
      "source": [
        "## A) Load and Preview Data"
      ],
      "metadata": {
        "id": "CTVmUXVnoGp0"
      }
    },
    {
      "cell_type": "markdown",
      "source": [
        "\n",
        "- Mount google drive and navigate to the file on the Files sidebar.\n"
      ],
      "metadata": {
        "id": "_r1kaxkquGFU"
      }
    },
    {
      "cell_type": "code",
      "source": [
        "# Mount google drive\n",
        "from google.colab import drive\n",
        "drive.mount('/content/drive')"
      ],
      "metadata": {
        "id": "mtAndE63WYJp",
        "colab": {
          "base_uri": "https://localhost:8080/",
          "height": 346
        },
        "outputId": "e432659e-7597-4b23-fe2b-3625336170f3"
      },
      "execution_count": null,
      "outputs": [
        {
          "output_type": "error",
          "ename": "MessageError",
          "evalue": "ignored",
          "traceback": [
            "\u001b[0;31m---------------------------------------------------------------------------\u001b[0m",
            "\u001b[0;31mMessageError\u001b[0m                              Traceback (most recent call last)",
            "\u001b[0;32m<ipython-input-1-aa79339ab1ad>\u001b[0m in \u001b[0;36m<cell line: 3>\u001b[0;34m()\u001b[0m\n\u001b[1;32m      1\u001b[0m \u001b[0;31m# Mount google drive\u001b[0m\u001b[0;34m\u001b[0m\u001b[0;34m\u001b[0m\u001b[0m\n\u001b[1;32m      2\u001b[0m \u001b[0;32mfrom\u001b[0m \u001b[0mgoogle\u001b[0m\u001b[0;34m.\u001b[0m\u001b[0mcolab\u001b[0m \u001b[0;32mimport\u001b[0m \u001b[0mdrive\u001b[0m\u001b[0;34m\u001b[0m\u001b[0;34m\u001b[0m\u001b[0m\n\u001b[0;32m----> 3\u001b[0;31m \u001b[0mdrive\u001b[0m\u001b[0;34m.\u001b[0m\u001b[0mmount\u001b[0m\u001b[0;34m(\u001b[0m\u001b[0;34m'/content/drive'\u001b[0m\u001b[0;34m)\u001b[0m\u001b[0;34m\u001b[0m\u001b[0;34m\u001b[0m\u001b[0m\n\u001b[0m",
            "\u001b[0;32m/usr/local/lib/python3.10/dist-packages/google/colab/drive.py\u001b[0m in \u001b[0;36mmount\u001b[0;34m(mountpoint, force_remount, timeout_ms, readonly)\u001b[0m\n\u001b[1;32m    101\u001b[0m \u001b[0;32mdef\u001b[0m \u001b[0mmount\u001b[0m\u001b[0;34m(\u001b[0m\u001b[0mmountpoint\u001b[0m\u001b[0;34m,\u001b[0m \u001b[0mforce_remount\u001b[0m\u001b[0;34m=\u001b[0m\u001b[0;32mFalse\u001b[0m\u001b[0;34m,\u001b[0m \u001b[0mtimeout_ms\u001b[0m\u001b[0;34m=\u001b[0m\u001b[0;36m120000\u001b[0m\u001b[0;34m,\u001b[0m \u001b[0mreadonly\u001b[0m\u001b[0;34m=\u001b[0m\u001b[0;32mFalse\u001b[0m\u001b[0;34m)\u001b[0m\u001b[0;34m:\u001b[0m\u001b[0;34m\u001b[0m\u001b[0;34m\u001b[0m\u001b[0m\n\u001b[1;32m    102\u001b[0m   \u001b[0;34m\"\"\"Mount your Google Drive at the specified mountpoint path.\"\"\"\u001b[0m\u001b[0;34m\u001b[0m\u001b[0;34m\u001b[0m\u001b[0m\n\u001b[0;32m--> 103\u001b[0;31m   return _mount(\n\u001b[0m\u001b[1;32m    104\u001b[0m       \u001b[0mmountpoint\u001b[0m\u001b[0;34m,\u001b[0m\u001b[0;34m\u001b[0m\u001b[0;34m\u001b[0m\u001b[0m\n\u001b[1;32m    105\u001b[0m       \u001b[0mforce_remount\u001b[0m\u001b[0;34m=\u001b[0m\u001b[0mforce_remount\u001b[0m\u001b[0;34m,\u001b[0m\u001b[0;34m\u001b[0m\u001b[0;34m\u001b[0m\u001b[0m\n",
            "\u001b[0;32m/usr/local/lib/python3.10/dist-packages/google/colab/drive.py\u001b[0m in \u001b[0;36m_mount\u001b[0;34m(mountpoint, force_remount, timeout_ms, ephemeral, readonly)\u001b[0m\n\u001b[1;32m    130\u001b[0m   )\n\u001b[1;32m    131\u001b[0m   \u001b[0;32mif\u001b[0m \u001b[0mephemeral\u001b[0m\u001b[0;34m:\u001b[0m\u001b[0;34m\u001b[0m\u001b[0;34m\u001b[0m\u001b[0m\n\u001b[0;32m--> 132\u001b[0;31m     _message.blocking_request(\n\u001b[0m\u001b[1;32m    133\u001b[0m         \u001b[0;34m'request_auth'\u001b[0m\u001b[0;34m,\u001b[0m \u001b[0mrequest\u001b[0m\u001b[0;34m=\u001b[0m\u001b[0;34m{\u001b[0m\u001b[0;34m'authType'\u001b[0m\u001b[0;34m:\u001b[0m \u001b[0;34m'dfs_ephemeral'\u001b[0m\u001b[0;34m}\u001b[0m\u001b[0;34m,\u001b[0m \u001b[0mtimeout_sec\u001b[0m\u001b[0;34m=\u001b[0m\u001b[0;32mNone\u001b[0m\u001b[0;34m\u001b[0m\u001b[0;34m\u001b[0m\u001b[0m\n\u001b[1;32m    134\u001b[0m     )\n",
            "\u001b[0;32m/usr/local/lib/python3.10/dist-packages/google/colab/_message.py\u001b[0m in \u001b[0;36mblocking_request\u001b[0;34m(request_type, request, timeout_sec, parent)\u001b[0m\n\u001b[1;32m    174\u001b[0m       \u001b[0mrequest_type\u001b[0m\u001b[0;34m,\u001b[0m \u001b[0mrequest\u001b[0m\u001b[0;34m,\u001b[0m \u001b[0mparent\u001b[0m\u001b[0;34m=\u001b[0m\u001b[0mparent\u001b[0m\u001b[0;34m,\u001b[0m \u001b[0mexpect_reply\u001b[0m\u001b[0;34m=\u001b[0m\u001b[0;32mTrue\u001b[0m\u001b[0;34m\u001b[0m\u001b[0;34m\u001b[0m\u001b[0m\n\u001b[1;32m    175\u001b[0m   )\n\u001b[0;32m--> 176\u001b[0;31m   \u001b[0;32mreturn\u001b[0m \u001b[0mread_reply_from_input\u001b[0m\u001b[0;34m(\u001b[0m\u001b[0mrequest_id\u001b[0m\u001b[0;34m,\u001b[0m \u001b[0mtimeout_sec\u001b[0m\u001b[0;34m)\u001b[0m\u001b[0;34m\u001b[0m\u001b[0;34m\u001b[0m\u001b[0m\n\u001b[0m",
            "\u001b[0;32m/usr/local/lib/python3.10/dist-packages/google/colab/_message.py\u001b[0m in \u001b[0;36mread_reply_from_input\u001b[0;34m(message_id, timeout_sec)\u001b[0m\n\u001b[1;32m    101\u001b[0m     ):\n\u001b[1;32m    102\u001b[0m       \u001b[0;32mif\u001b[0m \u001b[0;34m'error'\u001b[0m \u001b[0;32min\u001b[0m \u001b[0mreply\u001b[0m\u001b[0;34m:\u001b[0m\u001b[0;34m\u001b[0m\u001b[0;34m\u001b[0m\u001b[0m\n\u001b[0;32m--> 103\u001b[0;31m         \u001b[0;32mraise\u001b[0m \u001b[0mMessageError\u001b[0m\u001b[0;34m(\u001b[0m\u001b[0mreply\u001b[0m\u001b[0;34m[\u001b[0m\u001b[0;34m'error'\u001b[0m\u001b[0;34m]\u001b[0m\u001b[0;34m)\u001b[0m\u001b[0;34m\u001b[0m\u001b[0;34m\u001b[0m\u001b[0m\n\u001b[0m\u001b[1;32m    104\u001b[0m       \u001b[0;32mreturn\u001b[0m \u001b[0mreply\u001b[0m\u001b[0;34m.\u001b[0m\u001b[0mget\u001b[0m\u001b[0;34m(\u001b[0m\u001b[0;34m'data'\u001b[0m\u001b[0;34m,\u001b[0m \u001b[0;32mNone\u001b[0m\u001b[0;34m)\u001b[0m\u001b[0;34m\u001b[0m\u001b[0;34m\u001b[0m\u001b[0m\n\u001b[1;32m    105\u001b[0m \u001b[0;34m\u001b[0m\u001b[0m\n",
            "\u001b[0;31mMessageError\u001b[0m: Error: credential propagation was unsuccessful"
          ]
        }
      ]
    },
    {
      "cell_type": "markdown",
      "source": [
        "\n",
        "- Navigate to the file on the Files side bar and copy the path\n",
        "- Paste it below and save it as a variable called \"fpath\""
      ],
      "metadata": {
        "id": "OrukOB_cuHfG"
      }
    },
    {
      "cell_type": "code",
      "execution_count": null,
      "metadata": {
        "id": "mU3JiRzBMS_j"
      },
      "outputs": [],
      "source": [
        "# Import required packages\n",
        "import pandas as pd\n",
        "fpath = \"/content/drive/MyDrive/StudentFolders16wk20wk/CodingDojo (1)/01-Fundamentals/Week02/Data/titanic_dirty.csv\"\n",
        "df_titanic = pd.read_csv(fpath)\n",
        "# Save the filepath and load the data as \"df_titanic\"\n",
        "\n",
        "df_titanic = pd.read_csv(fpath)\n"
      ]
    },
    {
      "cell_type": "code",
      "source": [
        "# Display the last 5 rows\n",
        "df_titanic.tail()"
      ],
      "metadata": {
        "id": "-gT5FZQjOwvB",
        "colab": {
          "base_uri": "https://localhost:8080/",
          "height": 513
        },
        "outputId": "c3d086a8-78f5-4713-9c0f-525735cc103a"
      },
      "execution_count": null,
      "outputs": [
        {
          "output_type": "execute_result",
          "data": {
            "text/plain": [
              "     Unnamed: 0  PassengerId  Survived  Pclass  \\\n",
              "901         622          623         1       3   \n",
              "902          77           78         0       3   \n",
              "903         715          716         0       3   \n",
              "904         623          624         0       3   \n",
              "905         888          889         0       3   \n",
              "\n",
              "                                           Name     Sex   Age SibSp  Parch  \\\n",
              "901                            Nakid, Mr. Sahid    male  20.0     1      1   \n",
              "902                    Moutal, Mr. Rahamin Haim    male   NaN     0      0   \n",
              "903  Soholt, Mr. Peter Andreas Lauritz Andersen    male  19.0     0      0   \n",
              "904                 Hansen, Mr. Henry Damsgaard    male  21.0     0      0   \n",
              "905    Johnston, Miss. Catherine Helen \"Carrie\"  female   NaN     1      2   \n",
              "\n",
              "         Ticket    Fare  Cabin Embarked  \n",
              "901        2653  $15.74    NaN        C  \n",
              "902      374746   $8.05    NaN        S  \n",
              "903      348124   $7.65  F G73        S  \n",
              "904      350029   $7.85    NaN        S  \n",
              "905  W./C. 6607  $23.45    NaN        S  "
            ],
            "text/html": [
              "\n",
              "  <div id=\"df-f6d0b24d-cbfe-47f5-b03c-57f0a774db8b\">\n",
              "    <div class=\"colab-df-container\">\n",
              "      <div>\n",
              "<style scoped>\n",
              "    .dataframe tbody tr th:only-of-type {\n",
              "        vertical-align: middle;\n",
              "    }\n",
              "\n",
              "    .dataframe tbody tr th {\n",
              "        vertical-align: top;\n",
              "    }\n",
              "\n",
              "    .dataframe thead th {\n",
              "        text-align: right;\n",
              "    }\n",
              "</style>\n",
              "<table border=\"1\" class=\"dataframe\">\n",
              "  <thead>\n",
              "    <tr style=\"text-align: right;\">\n",
              "      <th></th>\n",
              "      <th>Unnamed: 0</th>\n",
              "      <th>PassengerId</th>\n",
              "      <th>Survived</th>\n",
              "      <th>Pclass</th>\n",
              "      <th>Name</th>\n",
              "      <th>Sex</th>\n",
              "      <th>Age</th>\n",
              "      <th>SibSp</th>\n",
              "      <th>Parch</th>\n",
              "      <th>Ticket</th>\n",
              "      <th>Fare</th>\n",
              "      <th>Cabin</th>\n",
              "      <th>Embarked</th>\n",
              "    </tr>\n",
              "  </thead>\n",
              "  <tbody>\n",
              "    <tr>\n",
              "      <th>901</th>\n",
              "      <td>622</td>\n",
              "      <td>623</td>\n",
              "      <td>1</td>\n",
              "      <td>3</td>\n",
              "      <td>Nakid, Mr. Sahid</td>\n",
              "      <td>male</td>\n",
              "      <td>20.0</td>\n",
              "      <td>1</td>\n",
              "      <td>1</td>\n",
              "      <td>2653</td>\n",
              "      <td>$15.74</td>\n",
              "      <td>NaN</td>\n",
              "      <td>C</td>\n",
              "    </tr>\n",
              "    <tr>\n",
              "      <th>902</th>\n",
              "      <td>77</td>\n",
              "      <td>78</td>\n",
              "      <td>0</td>\n",
              "      <td>3</td>\n",
              "      <td>Moutal, Mr. Rahamin Haim</td>\n",
              "      <td>male</td>\n",
              "      <td>NaN</td>\n",
              "      <td>0</td>\n",
              "      <td>0</td>\n",
              "      <td>374746</td>\n",
              "      <td>$8.05</td>\n",
              "      <td>NaN</td>\n",
              "      <td>S</td>\n",
              "    </tr>\n",
              "    <tr>\n",
              "      <th>903</th>\n",
              "      <td>715</td>\n",
              "      <td>716</td>\n",
              "      <td>0</td>\n",
              "      <td>3</td>\n",
              "      <td>Soholt, Mr. Peter Andreas Lauritz Andersen</td>\n",
              "      <td>male</td>\n",
              "      <td>19.0</td>\n",
              "      <td>0</td>\n",
              "      <td>0</td>\n",
              "      <td>348124</td>\n",
              "      <td>$7.65</td>\n",
              "      <td>F G73</td>\n",
              "      <td>S</td>\n",
              "    </tr>\n",
              "    <tr>\n",
              "      <th>904</th>\n",
              "      <td>623</td>\n",
              "      <td>624</td>\n",
              "      <td>0</td>\n",
              "      <td>3</td>\n",
              "      <td>Hansen, Mr. Henry Damsgaard</td>\n",
              "      <td>male</td>\n",
              "      <td>21.0</td>\n",
              "      <td>0</td>\n",
              "      <td>0</td>\n",
              "      <td>350029</td>\n",
              "      <td>$7.85</td>\n",
              "      <td>NaN</td>\n",
              "      <td>S</td>\n",
              "    </tr>\n",
              "    <tr>\n",
              "      <th>905</th>\n",
              "      <td>888</td>\n",
              "      <td>889</td>\n",
              "      <td>0</td>\n",
              "      <td>3</td>\n",
              "      <td>Johnston, Miss. Catherine Helen \"Carrie\"</td>\n",
              "      <td>female</td>\n",
              "      <td>NaN</td>\n",
              "      <td>1</td>\n",
              "      <td>2</td>\n",
              "      <td>W./C. 6607</td>\n",
              "      <td>$23.45</td>\n",
              "      <td>NaN</td>\n",
              "      <td>S</td>\n",
              "    </tr>\n",
              "  </tbody>\n",
              "</table>\n",
              "</div>\n",
              "      <button class=\"colab-df-convert\" onclick=\"convertToInteractive('df-f6d0b24d-cbfe-47f5-b03c-57f0a774db8b')\"\n",
              "              title=\"Convert this dataframe to an interactive table.\"\n",
              "              style=\"display:none;\">\n",
              "        \n",
              "  <svg xmlns=\"http://www.w3.org/2000/svg\" height=\"24px\"viewBox=\"0 0 24 24\"\n",
              "       width=\"24px\">\n",
              "    <path d=\"M0 0h24v24H0V0z\" fill=\"none\"/>\n",
              "    <path d=\"M18.56 5.44l.94 2.06.94-2.06 2.06-.94-2.06-.94-.94-2.06-.94 2.06-2.06.94zm-11 1L8.5 8.5l.94-2.06 2.06-.94-2.06-.94L8.5 2.5l-.94 2.06-2.06.94zm10 10l.94 2.06.94-2.06 2.06-.94-2.06-.94-.94-2.06-.94 2.06-2.06.94z\"/><path d=\"M17.41 7.96l-1.37-1.37c-.4-.4-.92-.59-1.43-.59-.52 0-1.04.2-1.43.59L10.3 9.45l-7.72 7.72c-.78.78-.78 2.05 0 2.83L4 21.41c.39.39.9.59 1.41.59.51 0 1.02-.2 1.41-.59l7.78-7.78 2.81-2.81c.8-.78.8-2.07 0-2.86zM5.41 20L4 18.59l7.72-7.72 1.47 1.35L5.41 20z\"/>\n",
              "  </svg>\n",
              "      </button>\n",
              "      \n",
              "  <style>\n",
              "    .colab-df-container {\n",
              "      display:flex;\n",
              "      flex-wrap:wrap;\n",
              "      gap: 12px;\n",
              "    }\n",
              "\n",
              "    .colab-df-convert {\n",
              "      background-color: #E8F0FE;\n",
              "      border: none;\n",
              "      border-radius: 50%;\n",
              "      cursor: pointer;\n",
              "      display: none;\n",
              "      fill: #1967D2;\n",
              "      height: 32px;\n",
              "      padding: 0 0 0 0;\n",
              "      width: 32px;\n",
              "    }\n",
              "\n",
              "    .colab-df-convert:hover {\n",
              "      background-color: #E2EBFA;\n",
              "      box-shadow: 0px 1px 2px rgba(60, 64, 67, 0.3), 0px 1px 3px 1px rgba(60, 64, 67, 0.15);\n",
              "      fill: #174EA6;\n",
              "    }\n",
              "\n",
              "    [theme=dark] .colab-df-convert {\n",
              "      background-color: #3B4455;\n",
              "      fill: #D2E3FC;\n",
              "    }\n",
              "\n",
              "    [theme=dark] .colab-df-convert:hover {\n",
              "      background-color: #434B5C;\n",
              "      box-shadow: 0px 1px 3px 1px rgba(0, 0, 0, 0.15);\n",
              "      filter: drop-shadow(0px 1px 2px rgba(0, 0, 0, 0.3));\n",
              "      fill: #FFFFFF;\n",
              "    }\n",
              "  </style>\n",
              "\n",
              "      <script>\n",
              "        const buttonEl =\n",
              "          document.querySelector('#df-f6d0b24d-cbfe-47f5-b03c-57f0a774db8b button.colab-df-convert');\n",
              "        buttonEl.style.display =\n",
              "          google.colab.kernel.accessAllowed ? 'block' : 'none';\n",
              "\n",
              "        async function convertToInteractive(key) {\n",
              "          const element = document.querySelector('#df-f6d0b24d-cbfe-47f5-b03c-57f0a774db8b');\n",
              "          const dataTable =\n",
              "            await google.colab.kernel.invokeFunction('convertToInteractive',\n",
              "                                                     [key], {});\n",
              "          if (!dataTable) return;\n",
              "\n",
              "          const docLinkHtml = 'Like what you see? Visit the ' +\n",
              "            '<a target=\"_blank\" href=https://colab.research.google.com/notebooks/data_table.ipynb>data table notebook</a>'\n",
              "            + ' to learn more about interactive tables.';\n",
              "          element.innerHTML = '';\n",
              "          dataTable['output_type'] = 'display_data';\n",
              "          await google.colab.output.renderOutput(dataTable, element);\n",
              "          const docLink = document.createElement('div');\n",
              "          docLink.innerHTML = docLinkHtml;\n",
              "          element.appendChild(docLink);\n",
              "        }\n",
              "      </script>\n",
              "    </div>\n",
              "  </div>\n",
              "  "
            ]
          },
          "metadata": {},
          "execution_count": 121
        }
      ]
    },
    {
      "cell_type": "code",
      "source": [
        "# Display the first 5 rows\n",
        "df_titanic.head()"
      ],
      "metadata": {
        "id": "alCcMYM_3FUJ",
        "colab": {
          "base_uri": "https://localhost:8080/",
          "height": 565
        },
        "outputId": "b808e625-ce74-472b-e7c1-173522b78bb7"
      },
      "execution_count": null,
      "outputs": [
        {
          "output_type": "execute_result",
          "data": {
            "text/plain": [
              "   Unnamed: 0  PassengerId  Survived  Pclass  \\\n",
              "0           0            1         0       3   \n",
              "1           1            2         1       1   \n",
              "2           2            3         1       3   \n",
              "3           3            4         1       1   \n",
              "4           4            5         0       3   \n",
              "\n",
              "                                                Name     Sex   Age SibSp  \\\n",
              "0                            Braund, Mr. Owen Harris    male  22.0     1   \n",
              "1  Cumings, Mrs. John Bradley (Florence Briggs Th...  female  38.0     1   \n",
              "2                             Heikkinen, Miss. Laina  female  26.0     0   \n",
              "3       Futrelle, Mrs. Jacques Heath (Lily May Peel)  female  35.0     1   \n",
              "4                           Allen, Mr. William Henry    male  35.0     0   \n",
              "\n",
              "   Parch            Ticket    Fare Cabin Embarked  \n",
              "0      0         A/5 21171   $7.25   NaN        S  \n",
              "1      0          PC 17599  $71.28   C85        C  \n",
              "2      0  STON/O2. 3101282   $7.93   NaN        S  \n",
              "3      0            113803  $53.10  C123        S  \n",
              "4      0            373450   $8.05   NaN        S  "
            ],
            "text/html": [
              "\n",
              "  <div id=\"df-d3c457a0-b74c-4d96-ad26-d799beed323b\">\n",
              "    <div class=\"colab-df-container\">\n",
              "      <div>\n",
              "<style scoped>\n",
              "    .dataframe tbody tr th:only-of-type {\n",
              "        vertical-align: middle;\n",
              "    }\n",
              "\n",
              "    .dataframe tbody tr th {\n",
              "        vertical-align: top;\n",
              "    }\n",
              "\n",
              "    .dataframe thead th {\n",
              "        text-align: right;\n",
              "    }\n",
              "</style>\n",
              "<table border=\"1\" class=\"dataframe\">\n",
              "  <thead>\n",
              "    <tr style=\"text-align: right;\">\n",
              "      <th></th>\n",
              "      <th>Unnamed: 0</th>\n",
              "      <th>PassengerId</th>\n",
              "      <th>Survived</th>\n",
              "      <th>Pclass</th>\n",
              "      <th>Name</th>\n",
              "      <th>Sex</th>\n",
              "      <th>Age</th>\n",
              "      <th>SibSp</th>\n",
              "      <th>Parch</th>\n",
              "      <th>Ticket</th>\n",
              "      <th>Fare</th>\n",
              "      <th>Cabin</th>\n",
              "      <th>Embarked</th>\n",
              "    </tr>\n",
              "  </thead>\n",
              "  <tbody>\n",
              "    <tr>\n",
              "      <th>0</th>\n",
              "      <td>0</td>\n",
              "      <td>1</td>\n",
              "      <td>0</td>\n",
              "      <td>3</td>\n",
              "      <td>Braund, Mr. Owen Harris</td>\n",
              "      <td>male</td>\n",
              "      <td>22.0</td>\n",
              "      <td>1</td>\n",
              "      <td>0</td>\n",
              "      <td>A/5 21171</td>\n",
              "      <td>$7.25</td>\n",
              "      <td>NaN</td>\n",
              "      <td>S</td>\n",
              "    </tr>\n",
              "    <tr>\n",
              "      <th>1</th>\n",
              "      <td>1</td>\n",
              "      <td>2</td>\n",
              "      <td>1</td>\n",
              "      <td>1</td>\n",
              "      <td>Cumings, Mrs. John Bradley (Florence Briggs Th...</td>\n",
              "      <td>female</td>\n",
              "      <td>38.0</td>\n",
              "      <td>1</td>\n",
              "      <td>0</td>\n",
              "      <td>PC 17599</td>\n",
              "      <td>$71.28</td>\n",
              "      <td>C85</td>\n",
              "      <td>C</td>\n",
              "    </tr>\n",
              "    <tr>\n",
              "      <th>2</th>\n",
              "      <td>2</td>\n",
              "      <td>3</td>\n",
              "      <td>1</td>\n",
              "      <td>3</td>\n",
              "      <td>Heikkinen, Miss. Laina</td>\n",
              "      <td>female</td>\n",
              "      <td>26.0</td>\n",
              "      <td>0</td>\n",
              "      <td>0</td>\n",
              "      <td>STON/O2. 3101282</td>\n",
              "      <td>$7.93</td>\n",
              "      <td>NaN</td>\n",
              "      <td>S</td>\n",
              "    </tr>\n",
              "    <tr>\n",
              "      <th>3</th>\n",
              "      <td>3</td>\n",
              "      <td>4</td>\n",
              "      <td>1</td>\n",
              "      <td>1</td>\n",
              "      <td>Futrelle, Mrs. Jacques Heath (Lily May Peel)</td>\n",
              "      <td>female</td>\n",
              "      <td>35.0</td>\n",
              "      <td>1</td>\n",
              "      <td>0</td>\n",
              "      <td>113803</td>\n",
              "      <td>$53.10</td>\n",
              "      <td>C123</td>\n",
              "      <td>S</td>\n",
              "    </tr>\n",
              "    <tr>\n",
              "      <th>4</th>\n",
              "      <td>4</td>\n",
              "      <td>5</td>\n",
              "      <td>0</td>\n",
              "      <td>3</td>\n",
              "      <td>Allen, Mr. William Henry</td>\n",
              "      <td>male</td>\n",
              "      <td>35.0</td>\n",
              "      <td>0</td>\n",
              "      <td>0</td>\n",
              "      <td>373450</td>\n",
              "      <td>$8.05</td>\n",
              "      <td>NaN</td>\n",
              "      <td>S</td>\n",
              "    </tr>\n",
              "  </tbody>\n",
              "</table>\n",
              "</div>\n",
              "      <button class=\"colab-df-convert\" onclick=\"convertToInteractive('df-d3c457a0-b74c-4d96-ad26-d799beed323b')\"\n",
              "              title=\"Convert this dataframe to an interactive table.\"\n",
              "              style=\"display:none;\">\n",
              "        \n",
              "  <svg xmlns=\"http://www.w3.org/2000/svg\" height=\"24px\"viewBox=\"0 0 24 24\"\n",
              "       width=\"24px\">\n",
              "    <path d=\"M0 0h24v24H0V0z\" fill=\"none\"/>\n",
              "    <path d=\"M18.56 5.44l.94 2.06.94-2.06 2.06-.94-2.06-.94-.94-2.06-.94 2.06-2.06.94zm-11 1L8.5 8.5l.94-2.06 2.06-.94-2.06-.94L8.5 2.5l-.94 2.06-2.06.94zm10 10l.94 2.06.94-2.06 2.06-.94-2.06-.94-.94-2.06-.94 2.06-2.06.94z\"/><path d=\"M17.41 7.96l-1.37-1.37c-.4-.4-.92-.59-1.43-.59-.52 0-1.04.2-1.43.59L10.3 9.45l-7.72 7.72c-.78.78-.78 2.05 0 2.83L4 21.41c.39.39.9.59 1.41.59.51 0 1.02-.2 1.41-.59l7.78-7.78 2.81-2.81c.8-.78.8-2.07 0-2.86zM5.41 20L4 18.59l7.72-7.72 1.47 1.35L5.41 20z\"/>\n",
              "  </svg>\n",
              "      </button>\n",
              "      \n",
              "  <style>\n",
              "    .colab-df-container {\n",
              "      display:flex;\n",
              "      flex-wrap:wrap;\n",
              "      gap: 12px;\n",
              "    }\n",
              "\n",
              "    .colab-df-convert {\n",
              "      background-color: #E8F0FE;\n",
              "      border: none;\n",
              "      border-radius: 50%;\n",
              "      cursor: pointer;\n",
              "      display: none;\n",
              "      fill: #1967D2;\n",
              "      height: 32px;\n",
              "      padding: 0 0 0 0;\n",
              "      width: 32px;\n",
              "    }\n",
              "\n",
              "    .colab-df-convert:hover {\n",
              "      background-color: #E2EBFA;\n",
              "      box-shadow: 0px 1px 2px rgba(60, 64, 67, 0.3), 0px 1px 3px 1px rgba(60, 64, 67, 0.15);\n",
              "      fill: #174EA6;\n",
              "    }\n",
              "\n",
              "    [theme=dark] .colab-df-convert {\n",
              "      background-color: #3B4455;\n",
              "      fill: #D2E3FC;\n",
              "    }\n",
              "\n",
              "    [theme=dark] .colab-df-convert:hover {\n",
              "      background-color: #434B5C;\n",
              "      box-shadow: 0px 1px 3px 1px rgba(0, 0, 0, 0.15);\n",
              "      filter: drop-shadow(0px 1px 2px rgba(0, 0, 0, 0.3));\n",
              "      fill: #FFFFFF;\n",
              "    }\n",
              "  </style>\n",
              "\n",
              "      <script>\n",
              "        const buttonEl =\n",
              "          document.querySelector('#df-d3c457a0-b74c-4d96-ad26-d799beed323b button.colab-df-convert');\n",
              "        buttonEl.style.display =\n",
              "          google.colab.kernel.accessAllowed ? 'block' : 'none';\n",
              "\n",
              "        async function convertToInteractive(key) {\n",
              "          const element = document.querySelector('#df-d3c457a0-b74c-4d96-ad26-d799beed323b');\n",
              "          const dataTable =\n",
              "            await google.colab.kernel.invokeFunction('convertToInteractive',\n",
              "                                                     [key], {});\n",
              "          if (!dataTable) return;\n",
              "\n",
              "          const docLinkHtml = 'Like what you see? Visit the ' +\n",
              "            '<a target=\"_blank\" href=https://colab.research.google.com/notebooks/data_table.ipynb>data table notebook</a>'\n",
              "            + ' to learn more about interactive tables.';\n",
              "          element.innerHTML = '';\n",
              "          dataTable['output_type'] = 'display_data';\n",
              "          await google.colab.output.renderOutput(dataTable, element);\n",
              "          const docLink = document.createElement('div');\n",
              "          docLink.innerHTML = docLinkHtml;\n",
              "          element.appendChild(docLink);\n",
              "        }\n",
              "      </script>\n",
              "    </div>\n",
              "  </div>\n",
              "  "
            ]
          },
          "metadata": {},
          "execution_count": 122
        }
      ]
    },
    {
      "cell_type": "markdown",
      "source": [
        "- Display summary information (including dtypes, number of rows, number of columns).\n"
      ],
      "metadata": {
        "id": "tOL6ujJ4OS3r"
      }
    },
    {
      "cell_type": "code",
      "source": [
        "# Display the info for the dataframe\n",
        "df_titanic.info()"
      ],
      "metadata": {
        "id": "DEGSDXiZPAJX",
        "colab": {
          "base_uri": "https://localhost:8080/"
        },
        "outputId": "cfc7078f-baaf-45bc-fc17-364797787db0"
      },
      "execution_count": null,
      "outputs": [
        {
          "output_type": "stream",
          "name": "stdout",
          "text": [
            "<class 'pandas.core.frame.DataFrame'>\n",
            "RangeIndex: 906 entries, 0 to 905\n",
            "Data columns (total 13 columns):\n",
            " #   Column       Non-Null Count  Dtype  \n",
            "---  ------       --------------  -----  \n",
            " 0   Unnamed: 0   906 non-null    int64  \n",
            " 1   PassengerId  906 non-null    int64  \n",
            " 2   Survived     906 non-null    int64  \n",
            " 3   Pclass       906 non-null    int64  \n",
            " 4   Name         906 non-null    object \n",
            " 5   Sex          906 non-null    object \n",
            " 6   Age          723 non-null    float64\n",
            " 7   SibSp        906 non-null    object \n",
            " 8   Parch        906 non-null    int64  \n",
            " 9   Ticket       906 non-null    object \n",
            " 10  Fare         906 non-null    object \n",
            " 11  Cabin        207 non-null    object \n",
            " 12  Embarked     904 non-null    object \n",
            "dtypes: float64(1), int64(5), object(7)\n",
            "memory usage: 92.1+ KB\n"
          ]
        }
      ]
    },
    {
      "cell_type": "markdown",
      "source": [
        "**Scan the .info() to answer the following questions about the data:**\n",
        "\n",
        ">Add your answers in this Markdown cell, right below each question:\n",
        "\n",
        "**Q: A1) How many rows are there?**\n",
        "- Your Answer:\n",
        "  - 13\n",
        "\n",
        "**Q: A2) How many columns are there?**\n",
        "- Your Answer:\n",
        "  - 905\n"
      ],
      "metadata": {
        "id": "cUSQkg9hRTA2"
      }
    },
    {
      "cell_type": "markdown",
      "source": [
        "\n",
        "\n",
        "**Q: A3)How many numeric columns?**\n",
        "- Your Answer:\n",
        "  - 10\n",
        "\n",
        "**Q: A4) How many categorical/string columns are there (dtype='object')?**\n",
        "- Your Answer:\n",
        "  - 3"
      ],
      "metadata": {
        "id": "fQVpRuxM3t69"
      }
    },
    {
      "cell_type": "markdown",
      "source": [
        "## B) Check Data Types and Convert (if required)\n"
      ],
      "metadata": {
        "id": "t4VzfV4gitk5"
      }
    },
    {
      "cell_type": "markdown",
      "source": [
        "> Notice there are several columns with \"object\" datatype.\n",
        "\n",
        "- **Use select_dtypes to view only the object columns**\n"
      ],
      "metadata": {
        "id": "JGAppZRvaDeT"
      }
    },
    {
      "cell_type": "code",
      "source": [
        "# Use .select_dtypes to view only object columns\n",
        "df_titanic.select_dtypes"
      ],
      "metadata": {
        "id": "o3jRzSXzcpXR",
        "colab": {
          "base_uri": "https://localhost:8080/"
        },
        "outputId": "8262e346-baec-4c1f-ac5e-00ef04625f1c"
      },
      "execution_count": null,
      "outputs": [
        {
          "output_type": "execute_result",
          "data": {
            "text/plain": [
              "<bound method DataFrame.select_dtypes of      Unnamed: 0  PassengerId  Survived  Pclass  \\\n",
              "0             0            1         0       3   \n",
              "1             1            2         1       1   \n",
              "2             2            3         1       3   \n",
              "3             3            4         1       1   \n",
              "4             4            5         0       3   \n",
              "..          ...          ...       ...     ...   \n",
              "901         622          623         1       3   \n",
              "902          77           78         0       3   \n",
              "903         715          716         0       3   \n",
              "904         623          624         0       3   \n",
              "905         888          889         0       3   \n",
              "\n",
              "                                                  Name     Sex   Age SibSp  \\\n",
              "0                              Braund, Mr. Owen Harris    male  22.0     1   \n",
              "1    Cumings, Mrs. John Bradley (Florence Briggs Th...  female  38.0     1   \n",
              "2                               Heikkinen, Miss. Laina  female  26.0     0   \n",
              "3         Futrelle, Mrs. Jacques Heath (Lily May Peel)  female  35.0     1   \n",
              "4                             Allen, Mr. William Henry    male  35.0     0   \n",
              "..                                                 ...     ...   ...   ...   \n",
              "901                                   Nakid, Mr. Sahid    male  20.0     1   \n",
              "902                           Moutal, Mr. Rahamin Haim    male   NaN     0   \n",
              "903         Soholt, Mr. Peter Andreas Lauritz Andersen    male  19.0     0   \n",
              "904                        Hansen, Mr. Henry Damsgaard    male  21.0     0   \n",
              "905           Johnston, Miss. Catherine Helen \"Carrie\"  female   NaN     1   \n",
              "\n",
              "     Parch            Ticket    Fare  Cabin Embarked  \n",
              "0        0         A/5 21171   $7.25    NaN        S  \n",
              "1        0          PC 17599  $71.28    C85        C  \n",
              "2        0  STON/O2. 3101282   $7.93    NaN        S  \n",
              "3        0            113803  $53.10   C123        S  \n",
              "4        0            373450   $8.05    NaN        S  \n",
              "..     ...               ...     ...    ...      ...  \n",
              "901      1              2653  $15.74    NaN        C  \n",
              "902      0            374746   $8.05    NaN        S  \n",
              "903      0            348124   $7.65  F G73        S  \n",
              "904      0            350029   $7.85    NaN        S  \n",
              "905      2        W./C. 6607  $23.45    NaN        S  \n",
              "\n",
              "[906 rows x 13 columns]>"
            ]
          },
          "metadata": {},
          "execution_count": 124
        }
      ]
    },
    {
      "cell_type": "markdown",
      "source": [
        "- Inspect the values in each column to confirm if they should be converted to numeric dtypes and answer the following questions:\n"
      ],
      "metadata": {
        "id": "o83V70CV4MRf"
      }
    },
    {
      "cell_type": "markdown",
      "source": [
        "\n",
        "\n",
        "**Q: B1) Which columns should be converted to a numeric dtype?**  (Hint: there are 2 columns that need to be converted)\n",
        "- **Your Answer:**\n",
        "  - ticket\n",
        "  - cabin\n",
        "\n",
        "\n",
        "\n"
      ],
      "metadata": {
        "id": "gdPhHusjebwy"
      }
    },
    {
      "cell_type": "markdown",
      "source": [
        "### Convert Dtypes"
      ],
      "metadata": {
        "id": "5qU24C-ihnQf"
      }
    },
    {
      "cell_type": "markdown",
      "source": [
        "#### Convert Fare"
      ],
      "metadata": {
        "id": "_H10qEVR5epj"
      }
    },
    {
      "cell_type": "code",
      "source": [
        "# Inspect the Fare column's value counts\n",
        "df_titanic[\"Fare\"].value_counts()"
      ],
      "metadata": {
        "id": "3Zg54AwUjmRi",
        "colab": {
          "base_uri": "https://localhost:8080/"
        },
        "outputId": "e8f2c9a6-3c4a-4e7b-c671-5576fd8c34c2"
      },
      "execution_count": null,
      "outputs": [
        {
          "output_type": "execute_result",
          "data": {
            "text/plain": [
              "$8.05     45\n",
              "$13.00    42\n",
              "$7.90     38\n",
              "$7.75     35\n",
              "$26.00    31\n",
              "          ..\n",
              "$6.86      1\n",
              "$12.65     1\n",
              "$12.53     1\n",
              "$12.00     1\n",
              "$10.52     1\n",
              "Name: Fare, Length: 234, dtype: int64"
            ]
          },
          "metadata": {},
          "execution_count": 125
        }
      ]
    },
    {
      "cell_type": "markdown",
      "source": [
        "\n",
        "\n",
        ">In a Markdown cell below your displayed info, answer the following questions:\n",
        "\n",
        "**Q: B2)  Do you see any values that are string characters that need to be replaced?**\n",
        "- Your Answer:\n",
        "  - $\n",
        "\n",
        "**Q: B3) If so, do you need to replace a single part of a string (`df[col].str.replace`) or an entire value (`df[col].replace`)?**\n",
        "- Your Answer:\n",
        "  - a single part"
      ],
      "metadata": {
        "id": "YI4YFIdT4vc3"
      }
    },
    {
      "cell_type": "markdown",
      "source": [
        "**Perform the necessary steps to convert to numeric dtype:**\n",
        "\n",
        "- 1) Replace/remove the non-numeric values."
      ],
      "metadata": {
        "id": "vk5cvcFQ5DAO"
      }
    },
    {
      "cell_type": "code",
      "source": [
        "# Remove  the \"$\" from fare column by replacing it with nothing\n",
        "df_titanic['Fare'] = df_titanic['Fare'].str.replace('$', '')\n",
        "# Check the .value_counts to confirm the change\n",
        "df_titanic['Fare']"
      ],
      "metadata": {
        "id": "lsxVIzhkcYxM",
        "colab": {
          "base_uri": "https://localhost:8080/"
        },
        "outputId": "b0502009-103a-44eb-ab6a-cbf65b8b34d7"
      },
      "execution_count": null,
      "outputs": [
        {
          "output_type": "stream",
          "name": "stderr",
          "text": [
            "<ipython-input-126-f3cfb751df79>:2: FutureWarning: The default value of regex will change from True to False in a future version. In addition, single character regular expressions will *not* be treated as literal strings when regex=True.\n",
            "  df_titanic['Fare'] = df_titanic['Fare'].str.replace('$', '')\n"
          ]
        },
        {
          "output_type": "execute_result",
          "data": {
            "text/plain": [
              "0       7.25\n",
              "1      71.28\n",
              "2       7.93\n",
              "3      53.10\n",
              "4       8.05\n",
              "       ...  \n",
              "901    15.74\n",
              "902     8.05\n",
              "903     7.65\n",
              "904     7.85\n",
              "905    23.45\n",
              "Name: Fare, Length: 906, dtype: object"
            ]
          },
          "metadata": {},
          "execution_count": 126
        }
      ]
    },
    {
      "cell_type": "markdown",
      "source": [
        "\n",
        "- 2) Convert the column to a float dtype."
      ],
      "metadata": {
        "id": "MklbU8IL5I3N"
      }
    },
    {
      "cell_type": "code",
      "source": [
        "# Change the datatype of Fare column to float\n",
        "df_titanic['Fare'] = df_titanic['Fare'].astype(float)\n",
        "# Confirm the datatype\n",
        "df_titanic['Fare'].dtype"
      ],
      "metadata": {
        "id": "zFqIHDCfjr-6",
        "colab": {
          "base_uri": "https://localhost:8080/"
        },
        "outputId": "838f6e6c-c831-4c4d-d6ac-a2992a23db3d"
      },
      "execution_count": null,
      "outputs": [
        {
          "output_type": "execute_result",
          "data": {
            "text/plain": [
              "dtype('float64')"
            ]
          },
          "metadata": {},
          "execution_count": 127
        }
      ]
    },
    {
      "cell_type": "markdown",
      "source": [
        "#### Convert SibSp"
      ],
      "metadata": {
        "id": "RXLzjUPh5pDG"
      }
    },
    {
      "cell_type": "code",
      "source": [
        "# Inspect the Sibsp column's value counts\n",
        "df_titanic[\"SibSp\"].value_counts()"
      ],
      "metadata": {
        "id": "RYgkzF9G8NCU",
        "colab": {
          "base_uri": "https://localhost:8080/"
        },
        "outputId": "764b8e69-9fc4-4920-d390-62217787cf93"
      },
      "execution_count": null,
      "outputs": [
        {
          "output_type": "execute_result",
          "data": {
            "text/plain": [
              "0      618\n",
              "1      212\n",
              "2       27\n",
              "4       18\n",
              "3       16\n",
              "8        7\n",
              "5        5\n",
              "one      3\n",
              "Name: SibSp, dtype: int64"
            ]
          },
          "metadata": {},
          "execution_count": 128
        }
      ]
    },
    {
      "cell_type": "markdown",
      "source": [
        ">In a Markdown cell below your displayed info, answer the following questions:\n",
        "\n",
        "**Q: B3)  Do you see any values that are string characters that need to be replaced?**\n",
        "- Your Answer:\n",
        "  - yes\n",
        "\n",
        "**Q: B4) If so, do you need to replace a single part of a string (`df[col].str.replace`) or an entire value (`df[col].replace`)?**\n",
        "- Your Answer:\n",
        "  - an entire value"
      ],
      "metadata": {
        "id": "lgk9SrtT5z_i"
      }
    },
    {
      "cell_type": "markdown",
      "source": [
        "**Perform the necessary steps to convert to numeric dtype:**\n",
        "\n",
        "- 1) Replace/remove the non-numeric values."
      ],
      "metadata": {
        "id": "3CpEwTet5z_i"
      }
    },
    {
      "cell_type": "code",
      "source": [
        "# There are 3 values of \"one\" which should be replaced with \"1\"\n",
        "df_titanic['SibSp'] = df_titanic['SibSp'].replace('one', '1')\n",
        "# Display the value counts again to confirm the change\n",
        "df_titanic[\"SibSp\"].value_counts()"
      ],
      "metadata": {
        "id": "MjtCtcwHDbXn",
        "colab": {
          "base_uri": "https://localhost:8080/",
          "height": 218
        },
        "outputId": "c9e129da-3647-4a9c-ce04-fbd7de359da6"
      },
      "execution_count": null,
      "outputs": [
        {
          "output_type": "error",
          "ename": "NameError",
          "evalue": "ignored",
          "traceback": [
            "\u001b[0;31m---------------------------------------------------------------------------\u001b[0m",
            "\u001b[0;31mNameError\u001b[0m                                 Traceback (most recent call last)",
            "\u001b[0;32m<ipython-input-1-b95fa182b07a>\u001b[0m in \u001b[0;36m<cell line: 2>\u001b[0;34m()\u001b[0m\n\u001b[1;32m      1\u001b[0m \u001b[0;31m# There are 3 values of \"one\" which should be replaced with \"1\"\u001b[0m\u001b[0;34m\u001b[0m\u001b[0;34m\u001b[0m\u001b[0m\n\u001b[0;32m----> 2\u001b[0;31m \u001b[0mdf_titanic\u001b[0m\u001b[0;34m[\u001b[0m\u001b[0;34m'SibSp'\u001b[0m\u001b[0;34m]\u001b[0m \u001b[0;34m=\u001b[0m \u001b[0mdf_titanic\u001b[0m\u001b[0;34m[\u001b[0m\u001b[0;34m'SibSp'\u001b[0m\u001b[0;34m]\u001b[0m\u001b[0;34m.\u001b[0m\u001b[0mreplace\u001b[0m\u001b[0;34m(\u001b[0m\u001b[0;34m'one'\u001b[0m\u001b[0;34m,\u001b[0m \u001b[0;34m'1'\u001b[0m\u001b[0;34m)\u001b[0m\u001b[0;34m\u001b[0m\u001b[0;34m\u001b[0m\u001b[0m\n\u001b[0m\u001b[1;32m      3\u001b[0m \u001b[0;31m# Display the value counts again to confirm the change\u001b[0m\u001b[0;34m\u001b[0m\u001b[0;34m\u001b[0m\u001b[0m\n\u001b[1;32m      4\u001b[0m \u001b[0mdf_titanic\u001b[0m\u001b[0;34m[\u001b[0m\u001b[0;34m\"SibSp\"\u001b[0m\u001b[0;34m]\u001b[0m\u001b[0;34m.\u001b[0m\u001b[0mvalue_counts\u001b[0m\u001b[0;34m(\u001b[0m\u001b[0;34m)\u001b[0m\u001b[0;34m\u001b[0m\u001b[0;34m\u001b[0m\u001b[0m\n",
            "\u001b[0;31mNameError\u001b[0m: name 'df_titanic' is not defined"
          ]
        }
      ]
    },
    {
      "cell_type": "markdown",
      "source": [
        "\n",
        "- 2) Convert the column to a float dtype."
      ],
      "metadata": {
        "id": "ZgUDCoEN6PF3"
      }
    },
    {
      "cell_type": "code",
      "source": [
        "# Convert the SibSp column to integer dtype\n",
        "df_titanic[\"SibSp\"] = df_titanic[\"SibSp\"].astype(float)\n",
        "# Confirm the datatype\n",
        "df_titanic[\"SibSp\"].dtype"
      ],
      "metadata": {
        "id": "n7Eav1piERbn",
        "colab": {
          "base_uri": "https://localhost:8080/"
        },
        "outputId": "466377b5-ce88-4f23-f89e-d0eb9dc49869"
      },
      "execution_count": null,
      "outputs": [
        {
          "output_type": "execute_result",
          "data": {
            "text/plain": [
              "dtype('float64')"
            ]
          },
          "metadata": {},
          "execution_count": 130
        }
      ]
    },
    {
      "cell_type": "markdown",
      "source": [
        "## C) Drop Unwanted Columns"
      ],
      "metadata": {
        "id": "2WJJo4vOjH6x"
      }
    },
    {
      "cell_type": "markdown",
      "source": [
        "- Drop the 'Unnamed: 0' column because it is an error"
      ],
      "metadata": {
        "id": "V_8w1txa7ujq"
      }
    },
    {
      "cell_type": "code",
      "source": [
        "# Drop the Unnamed: 0 column\n",
        "df_titanic = df_titanic.drop(columns = 'Unnamed: 0')\n",
        "\n",
        "# Display the .head to confirm the change\n",
        "df_titanic.head()"
      ],
      "metadata": {
        "id": "LEe3645pcur8",
        "colab": {
          "base_uri": "https://localhost:8080/",
          "height": 548
        },
        "outputId": "8e36cd12-7d70-4b4a-98ec-a46790001444"
      },
      "execution_count": null,
      "outputs": [
        {
          "output_type": "execute_result",
          "data": {
            "text/plain": [
              "   PassengerId  Survived  Pclass  \\\n",
              "0            1         0       3   \n",
              "1            2         1       1   \n",
              "2            3         1       3   \n",
              "3            4         1       1   \n",
              "4            5         0       3   \n",
              "\n",
              "                                                Name     Sex   Age  SibSp  \\\n",
              "0                            Braund, Mr. Owen Harris    male  22.0    1.0   \n",
              "1  Cumings, Mrs. John Bradley (Florence Briggs Th...  female  38.0    1.0   \n",
              "2                             Heikkinen, Miss. Laina  female  26.0    0.0   \n",
              "3       Futrelle, Mrs. Jacques Heath (Lily May Peel)  female  35.0    1.0   \n",
              "4                           Allen, Mr. William Henry    male  35.0    0.0   \n",
              "\n",
              "   Parch            Ticket   Fare Cabin Embarked  \n",
              "0      0         A/5 21171   7.25   NaN        S  \n",
              "1      0          PC 17599  71.28   C85        C  \n",
              "2      0  STON/O2. 3101282   7.93   NaN        S  \n",
              "3      0            113803  53.10  C123        S  \n",
              "4      0            373450   8.05   NaN        S  "
            ],
            "text/html": [
              "\n",
              "  <div id=\"df-732b8112-2cd6-48bc-a778-09509a82c2b6\">\n",
              "    <div class=\"colab-df-container\">\n",
              "      <div>\n",
              "<style scoped>\n",
              "    .dataframe tbody tr th:only-of-type {\n",
              "        vertical-align: middle;\n",
              "    }\n",
              "\n",
              "    .dataframe tbody tr th {\n",
              "        vertical-align: top;\n",
              "    }\n",
              "\n",
              "    .dataframe thead th {\n",
              "        text-align: right;\n",
              "    }\n",
              "</style>\n",
              "<table border=\"1\" class=\"dataframe\">\n",
              "  <thead>\n",
              "    <tr style=\"text-align: right;\">\n",
              "      <th></th>\n",
              "      <th>PassengerId</th>\n",
              "      <th>Survived</th>\n",
              "      <th>Pclass</th>\n",
              "      <th>Name</th>\n",
              "      <th>Sex</th>\n",
              "      <th>Age</th>\n",
              "      <th>SibSp</th>\n",
              "      <th>Parch</th>\n",
              "      <th>Ticket</th>\n",
              "      <th>Fare</th>\n",
              "      <th>Cabin</th>\n",
              "      <th>Embarked</th>\n",
              "    </tr>\n",
              "  </thead>\n",
              "  <tbody>\n",
              "    <tr>\n",
              "      <th>0</th>\n",
              "      <td>1</td>\n",
              "      <td>0</td>\n",
              "      <td>3</td>\n",
              "      <td>Braund, Mr. Owen Harris</td>\n",
              "      <td>male</td>\n",
              "      <td>22.0</td>\n",
              "      <td>1.0</td>\n",
              "      <td>0</td>\n",
              "      <td>A/5 21171</td>\n",
              "      <td>7.25</td>\n",
              "      <td>NaN</td>\n",
              "      <td>S</td>\n",
              "    </tr>\n",
              "    <tr>\n",
              "      <th>1</th>\n",
              "      <td>2</td>\n",
              "      <td>1</td>\n",
              "      <td>1</td>\n",
              "      <td>Cumings, Mrs. John Bradley (Florence Briggs Th...</td>\n",
              "      <td>female</td>\n",
              "      <td>38.0</td>\n",
              "      <td>1.0</td>\n",
              "      <td>0</td>\n",
              "      <td>PC 17599</td>\n",
              "      <td>71.28</td>\n",
              "      <td>C85</td>\n",
              "      <td>C</td>\n",
              "    </tr>\n",
              "    <tr>\n",
              "      <th>2</th>\n",
              "      <td>3</td>\n",
              "      <td>1</td>\n",
              "      <td>3</td>\n",
              "      <td>Heikkinen, Miss. Laina</td>\n",
              "      <td>female</td>\n",
              "      <td>26.0</td>\n",
              "      <td>0.0</td>\n",
              "      <td>0</td>\n",
              "      <td>STON/O2. 3101282</td>\n",
              "      <td>7.93</td>\n",
              "      <td>NaN</td>\n",
              "      <td>S</td>\n",
              "    </tr>\n",
              "    <tr>\n",
              "      <th>3</th>\n",
              "      <td>4</td>\n",
              "      <td>1</td>\n",
              "      <td>1</td>\n",
              "      <td>Futrelle, Mrs. Jacques Heath (Lily May Peel)</td>\n",
              "      <td>female</td>\n",
              "      <td>35.0</td>\n",
              "      <td>1.0</td>\n",
              "      <td>0</td>\n",
              "      <td>113803</td>\n",
              "      <td>53.10</td>\n",
              "      <td>C123</td>\n",
              "      <td>S</td>\n",
              "    </tr>\n",
              "    <tr>\n",
              "      <th>4</th>\n",
              "      <td>5</td>\n",
              "      <td>0</td>\n",
              "      <td>3</td>\n",
              "      <td>Allen, Mr. William Henry</td>\n",
              "      <td>male</td>\n",
              "      <td>35.0</td>\n",
              "      <td>0.0</td>\n",
              "      <td>0</td>\n",
              "      <td>373450</td>\n",
              "      <td>8.05</td>\n",
              "      <td>NaN</td>\n",
              "      <td>S</td>\n",
              "    </tr>\n",
              "  </tbody>\n",
              "</table>\n",
              "</div>\n",
              "      <button class=\"colab-df-convert\" onclick=\"convertToInteractive('df-732b8112-2cd6-48bc-a778-09509a82c2b6')\"\n",
              "              title=\"Convert this dataframe to an interactive table.\"\n",
              "              style=\"display:none;\">\n",
              "        \n",
              "  <svg xmlns=\"http://www.w3.org/2000/svg\" height=\"24px\"viewBox=\"0 0 24 24\"\n",
              "       width=\"24px\">\n",
              "    <path d=\"M0 0h24v24H0V0z\" fill=\"none\"/>\n",
              "    <path d=\"M18.56 5.44l.94 2.06.94-2.06 2.06-.94-2.06-.94-.94-2.06-.94 2.06-2.06.94zm-11 1L8.5 8.5l.94-2.06 2.06-.94-2.06-.94L8.5 2.5l-.94 2.06-2.06.94zm10 10l.94 2.06.94-2.06 2.06-.94-2.06-.94-.94-2.06-.94 2.06-2.06.94z\"/><path d=\"M17.41 7.96l-1.37-1.37c-.4-.4-.92-.59-1.43-.59-.52 0-1.04.2-1.43.59L10.3 9.45l-7.72 7.72c-.78.78-.78 2.05 0 2.83L4 21.41c.39.39.9.59 1.41.59.51 0 1.02-.2 1.41-.59l7.78-7.78 2.81-2.81c.8-.78.8-2.07 0-2.86zM5.41 20L4 18.59l7.72-7.72 1.47 1.35L5.41 20z\"/>\n",
              "  </svg>\n",
              "      </button>\n",
              "      \n",
              "  <style>\n",
              "    .colab-df-container {\n",
              "      display:flex;\n",
              "      flex-wrap:wrap;\n",
              "      gap: 12px;\n",
              "    }\n",
              "\n",
              "    .colab-df-convert {\n",
              "      background-color: #E8F0FE;\n",
              "      border: none;\n",
              "      border-radius: 50%;\n",
              "      cursor: pointer;\n",
              "      display: none;\n",
              "      fill: #1967D2;\n",
              "      height: 32px;\n",
              "      padding: 0 0 0 0;\n",
              "      width: 32px;\n",
              "    }\n",
              "\n",
              "    .colab-df-convert:hover {\n",
              "      background-color: #E2EBFA;\n",
              "      box-shadow: 0px 1px 2px rgba(60, 64, 67, 0.3), 0px 1px 3px 1px rgba(60, 64, 67, 0.15);\n",
              "      fill: #174EA6;\n",
              "    }\n",
              "\n",
              "    [theme=dark] .colab-df-convert {\n",
              "      background-color: #3B4455;\n",
              "      fill: #D2E3FC;\n",
              "    }\n",
              "\n",
              "    [theme=dark] .colab-df-convert:hover {\n",
              "      background-color: #434B5C;\n",
              "      box-shadow: 0px 1px 3px 1px rgba(0, 0, 0, 0.15);\n",
              "      filter: drop-shadow(0px 1px 2px rgba(0, 0, 0, 0.3));\n",
              "      fill: #FFFFFF;\n",
              "    }\n",
              "  </style>\n",
              "\n",
              "      <script>\n",
              "        const buttonEl =\n",
              "          document.querySelector('#df-732b8112-2cd6-48bc-a778-09509a82c2b6 button.colab-df-convert');\n",
              "        buttonEl.style.display =\n",
              "          google.colab.kernel.accessAllowed ? 'block' : 'none';\n",
              "\n",
              "        async function convertToInteractive(key) {\n",
              "          const element = document.querySelector('#df-732b8112-2cd6-48bc-a778-09509a82c2b6');\n",
              "          const dataTable =\n",
              "            await google.colab.kernel.invokeFunction('convertToInteractive',\n",
              "                                                     [key], {});\n",
              "          if (!dataTable) return;\n",
              "\n",
              "          const docLinkHtml = 'Like what you see? Visit the ' +\n",
              "            '<a target=\"_blank\" href=https://colab.research.google.com/notebooks/data_table.ipynb>data table notebook</a>'\n",
              "            + ' to learn more about interactive tables.';\n",
              "          element.innerHTML = '';\n",
              "          dataTable['output_type'] = 'display_data';\n",
              "          await google.colab.output.renderOutput(dataTable, element);\n",
              "          const docLink = document.createElement('div');\n",
              "          docLink.innerHTML = docLinkHtml;\n",
              "          element.appendChild(docLink);\n",
              "        }\n",
              "      </script>\n",
              "    </div>\n",
              "  </div>\n",
              "  "
            ]
          },
          "metadata": {},
          "execution_count": 131
        }
      ]
    },
    {
      "cell_type": "markdown",
      "source": [
        "## D) Rename Columns\n",
        "(that have Confusing/Abbreviated Column Names)"
      ],
      "metadata": {
        "id": "EXeneBJmkrAY"
      }
    },
    {
      "cell_type": "markdown",
      "source": [
        "In the cell below:\n",
        "- Rename the SibSp column as \"Siblings or Spouses\"\n",
        "- Rename the Parch as \"Parents or Children\""
      ],
      "metadata": {
        "id": "cs4FEKt-ZcH9"
      }
    },
    {
      "cell_type": "code",
      "source": [
        "# Create a dictionary called rename_dict\n",
        "rename_dict= {\n",
        "    'SibSp': 'Sibling or Spouses',\n",
        "    'Parch': 'Parents or Children'\n",
        "}\n",
        "# with current column names as keys\n",
        "# and new replacement names as the values.\n"
      ],
      "metadata": {
        "id": "lqj9wSk_k3ir"
      },
      "execution_count": null,
      "outputs": []
    },
    {
      "cell_type": "code",
      "source": [
        "# Use the rename_dict to change the column names in the dataframe\n",
        "# Check the .head() to confirm the nams changed\n",
        "df_titanic.rename(columns=rename_dict, inplace=True)\n",
        "df_titanic.head()"
      ],
      "metadata": {
        "id": "dg0nDjFnlBuc",
        "colab": {
          "base_uri": "https://localhost:8080/",
          "height": 583
        },
        "outputId": "a0900789-2a1e-492b-e39f-3bebe8f84eff"
      },
      "execution_count": null,
      "outputs": [
        {
          "output_type": "execute_result",
          "data": {
            "text/plain": [
              "   PassengerId  Survived  Pclass  \\\n",
              "0            1         0       3   \n",
              "1            2         1       1   \n",
              "2            3         1       3   \n",
              "3            4         1       1   \n",
              "4            5         0       3   \n",
              "\n",
              "                                                Name     Sex   Age  \\\n",
              "0                            Braund, Mr. Owen Harris    male  22.0   \n",
              "1  Cumings, Mrs. John Bradley (Florence Briggs Th...  female  38.0   \n",
              "2                             Heikkinen, Miss. Laina  female  26.0   \n",
              "3       Futrelle, Mrs. Jacques Heath (Lily May Peel)  female  35.0   \n",
              "4                           Allen, Mr. William Henry    male  35.0   \n",
              "\n",
              "   Sibling or Spouses  Parents or Children            Ticket   Fare Cabin  \\\n",
              "0                 1.0                    0         A/5 21171   7.25   NaN   \n",
              "1                 1.0                    0          PC 17599  71.28   C85   \n",
              "2                 0.0                    0  STON/O2. 3101282   7.93   NaN   \n",
              "3                 1.0                    0            113803  53.10  C123   \n",
              "4                 0.0                    0            373450   8.05   NaN   \n",
              "\n",
              "  Embarked  \n",
              "0        S  \n",
              "1        C  \n",
              "2        S  \n",
              "3        S  \n",
              "4        S  "
            ],
            "text/html": [
              "\n",
              "  <div id=\"df-99fce785-4626-414a-9067-0afbc503d107\">\n",
              "    <div class=\"colab-df-container\">\n",
              "      <div>\n",
              "<style scoped>\n",
              "    .dataframe tbody tr th:only-of-type {\n",
              "        vertical-align: middle;\n",
              "    }\n",
              "\n",
              "    .dataframe tbody tr th {\n",
              "        vertical-align: top;\n",
              "    }\n",
              "\n",
              "    .dataframe thead th {\n",
              "        text-align: right;\n",
              "    }\n",
              "</style>\n",
              "<table border=\"1\" class=\"dataframe\">\n",
              "  <thead>\n",
              "    <tr style=\"text-align: right;\">\n",
              "      <th></th>\n",
              "      <th>PassengerId</th>\n",
              "      <th>Survived</th>\n",
              "      <th>Pclass</th>\n",
              "      <th>Name</th>\n",
              "      <th>Sex</th>\n",
              "      <th>Age</th>\n",
              "      <th>Sibling or Spouses</th>\n",
              "      <th>Parents or Children</th>\n",
              "      <th>Ticket</th>\n",
              "      <th>Fare</th>\n",
              "      <th>Cabin</th>\n",
              "      <th>Embarked</th>\n",
              "    </tr>\n",
              "  </thead>\n",
              "  <tbody>\n",
              "    <tr>\n",
              "      <th>0</th>\n",
              "      <td>1</td>\n",
              "      <td>0</td>\n",
              "      <td>3</td>\n",
              "      <td>Braund, Mr. Owen Harris</td>\n",
              "      <td>male</td>\n",
              "      <td>22.0</td>\n",
              "      <td>1.0</td>\n",
              "      <td>0</td>\n",
              "      <td>A/5 21171</td>\n",
              "      <td>7.25</td>\n",
              "      <td>NaN</td>\n",
              "      <td>S</td>\n",
              "    </tr>\n",
              "    <tr>\n",
              "      <th>1</th>\n",
              "      <td>2</td>\n",
              "      <td>1</td>\n",
              "      <td>1</td>\n",
              "      <td>Cumings, Mrs. John Bradley (Florence Briggs Th...</td>\n",
              "      <td>female</td>\n",
              "      <td>38.0</td>\n",
              "      <td>1.0</td>\n",
              "      <td>0</td>\n",
              "      <td>PC 17599</td>\n",
              "      <td>71.28</td>\n",
              "      <td>C85</td>\n",
              "      <td>C</td>\n",
              "    </tr>\n",
              "    <tr>\n",
              "      <th>2</th>\n",
              "      <td>3</td>\n",
              "      <td>1</td>\n",
              "      <td>3</td>\n",
              "      <td>Heikkinen, Miss. Laina</td>\n",
              "      <td>female</td>\n",
              "      <td>26.0</td>\n",
              "      <td>0.0</td>\n",
              "      <td>0</td>\n",
              "      <td>STON/O2. 3101282</td>\n",
              "      <td>7.93</td>\n",
              "      <td>NaN</td>\n",
              "      <td>S</td>\n",
              "    </tr>\n",
              "    <tr>\n",
              "      <th>3</th>\n",
              "      <td>4</td>\n",
              "      <td>1</td>\n",
              "      <td>1</td>\n",
              "      <td>Futrelle, Mrs. Jacques Heath (Lily May Peel)</td>\n",
              "      <td>female</td>\n",
              "      <td>35.0</td>\n",
              "      <td>1.0</td>\n",
              "      <td>0</td>\n",
              "      <td>113803</td>\n",
              "      <td>53.10</td>\n",
              "      <td>C123</td>\n",
              "      <td>S</td>\n",
              "    </tr>\n",
              "    <tr>\n",
              "      <th>4</th>\n",
              "      <td>5</td>\n",
              "      <td>0</td>\n",
              "      <td>3</td>\n",
              "      <td>Allen, Mr. William Henry</td>\n",
              "      <td>male</td>\n",
              "      <td>35.0</td>\n",
              "      <td>0.0</td>\n",
              "      <td>0</td>\n",
              "      <td>373450</td>\n",
              "      <td>8.05</td>\n",
              "      <td>NaN</td>\n",
              "      <td>S</td>\n",
              "    </tr>\n",
              "  </tbody>\n",
              "</table>\n",
              "</div>\n",
              "      <button class=\"colab-df-convert\" onclick=\"convertToInteractive('df-99fce785-4626-414a-9067-0afbc503d107')\"\n",
              "              title=\"Convert this dataframe to an interactive table.\"\n",
              "              style=\"display:none;\">\n",
              "        \n",
              "  <svg xmlns=\"http://www.w3.org/2000/svg\" height=\"24px\"viewBox=\"0 0 24 24\"\n",
              "       width=\"24px\">\n",
              "    <path d=\"M0 0h24v24H0V0z\" fill=\"none\"/>\n",
              "    <path d=\"M18.56 5.44l.94 2.06.94-2.06 2.06-.94-2.06-.94-.94-2.06-.94 2.06-2.06.94zm-11 1L8.5 8.5l.94-2.06 2.06-.94-2.06-.94L8.5 2.5l-.94 2.06-2.06.94zm10 10l.94 2.06.94-2.06 2.06-.94-2.06-.94-.94-2.06-.94 2.06-2.06.94z\"/><path d=\"M17.41 7.96l-1.37-1.37c-.4-.4-.92-.59-1.43-.59-.52 0-1.04.2-1.43.59L10.3 9.45l-7.72 7.72c-.78.78-.78 2.05 0 2.83L4 21.41c.39.39.9.59 1.41.59.51 0 1.02-.2 1.41-.59l7.78-7.78 2.81-2.81c.8-.78.8-2.07 0-2.86zM5.41 20L4 18.59l7.72-7.72 1.47 1.35L5.41 20z\"/>\n",
              "  </svg>\n",
              "      </button>\n",
              "      \n",
              "  <style>\n",
              "    .colab-df-container {\n",
              "      display:flex;\n",
              "      flex-wrap:wrap;\n",
              "      gap: 12px;\n",
              "    }\n",
              "\n",
              "    .colab-df-convert {\n",
              "      background-color: #E8F0FE;\n",
              "      border: none;\n",
              "      border-radius: 50%;\n",
              "      cursor: pointer;\n",
              "      display: none;\n",
              "      fill: #1967D2;\n",
              "      height: 32px;\n",
              "      padding: 0 0 0 0;\n",
              "      width: 32px;\n",
              "    }\n",
              "\n",
              "    .colab-df-convert:hover {\n",
              "      background-color: #E2EBFA;\n",
              "      box-shadow: 0px 1px 2px rgba(60, 64, 67, 0.3), 0px 1px 3px 1px rgba(60, 64, 67, 0.15);\n",
              "      fill: #174EA6;\n",
              "    }\n",
              "\n",
              "    [theme=dark] .colab-df-convert {\n",
              "      background-color: #3B4455;\n",
              "      fill: #D2E3FC;\n",
              "    }\n",
              "\n",
              "    [theme=dark] .colab-df-convert:hover {\n",
              "      background-color: #434B5C;\n",
              "      box-shadow: 0px 1px 3px 1px rgba(0, 0, 0, 0.15);\n",
              "      filter: drop-shadow(0px 1px 2px rgba(0, 0, 0, 0.3));\n",
              "      fill: #FFFFFF;\n",
              "    }\n",
              "  </style>\n",
              "\n",
              "      <script>\n",
              "        const buttonEl =\n",
              "          document.querySelector('#df-99fce785-4626-414a-9067-0afbc503d107 button.colab-df-convert');\n",
              "        buttonEl.style.display =\n",
              "          google.colab.kernel.accessAllowed ? 'block' : 'none';\n",
              "\n",
              "        async function convertToInteractive(key) {\n",
              "          const element = document.querySelector('#df-99fce785-4626-414a-9067-0afbc503d107');\n",
              "          const dataTable =\n",
              "            await google.colab.kernel.invokeFunction('convertToInteractive',\n",
              "                                                     [key], {});\n",
              "          if (!dataTable) return;\n",
              "\n",
              "          const docLinkHtml = 'Like what you see? Visit the ' +\n",
              "            '<a target=\"_blank\" href=https://colab.research.google.com/notebooks/data_table.ipynb>data table notebook</a>'\n",
              "            + ' to learn more about interactive tables.';\n",
              "          element.innerHTML = '';\n",
              "          dataTable['output_type'] = 'display_data';\n",
              "          await google.colab.output.renderOutput(dataTable, element);\n",
              "          const docLink = document.createElement('div');\n",
              "          docLink.innerHTML = docLinkHtml;\n",
              "          element.appendChild(docLink);\n",
              "        }\n",
              "      </script>\n",
              "    </div>\n",
              "  </div>\n",
              "  "
            ]
          },
          "metadata": {},
          "execution_count": 133
        }
      ]
    },
    {
      "cell_type": "markdown",
      "source": [
        "## E) Duplicate Rows"
      ],
      "metadata": {
        "id": "ZaBNjMzRo2cC"
      }
    },
    {
      "cell_type": "markdown",
      "source": [
        "### Identifying Duplicates"
      ],
      "metadata": {
        "id": "Acd0kjkTk5Ze"
      }
    },
    {
      "cell_type": "markdown",
      "source": [
        "\n",
        "- Use `df.duplicated` to identify if there are any duplicate rows in the data.\n"
      ],
      "metadata": {
        "id": "TovjTuK97H1n"
      }
    },
    {
      "cell_type": "code",
      "source": [
        "# Save a filter called \"duplicated_rows\" that identifies duplicated rows\n",
        "\n",
        "duplicated_rows = df_titanic.duplicated()\n",
        "# Get the sum of duplicated_rows filter to see the number of duplicate rows\n",
        "duplicated_rows\n",
        "df_titanic.duplicated().sum()"
      ],
      "metadata": {
        "id": "ND4i3S6wo2Ge",
        "colab": {
          "base_uri": "https://localhost:8080/"
        },
        "outputId": "6aaa078b-2c5f-4921-b029-65f025c4a41b"
      },
      "execution_count": null,
      "outputs": [
        {
          "output_type": "execute_result",
          "data": {
            "text/plain": [
              "15"
            ]
          },
          "metadata": {},
          "execution_count": 134
        }
      ]
    },
    {
      "cell_type": "markdown",
      "source": [
        "\n",
        "**Q: E1) How many duplicate rows are in the data?**\n",
        "- Your Answer:\n",
        "  - 15"
      ],
      "metadata": {
        "id": "9pnXXJ3wCLXL"
      }
    },
    {
      "cell_type": "markdown",
      "source": [
        "\n",
        "- Visualize all copies of the duplicate rows using df.duplicated(keep=False).\n",
        "  - Sort the rows by the PassengerID column to view duplicate rows together."
      ],
      "metadata": {
        "id": "0urshZJz7I0A"
      }
    },
    {
      "cell_type": "code",
      "source": [
        "# Save a new filter called \"duplicated_rows_all\" that identifies ALL\n",
        "# of the duplicated rows (including the first). Hint: use the \"keep\" argument.\n",
        "duplicated_rows_all = df_titanic.duplicated(keep=False)\n",
        "\n",
        "# Calculate the sum of the duplicated_rows_all filter\n",
        "duplicated_rows_all.sum()"
      ],
      "metadata": {
        "id": "g0H7EGf219mK",
        "colab": {
          "base_uri": "https://localhost:8080/"
        },
        "outputId": "61de61c5-4695-40a8-fdeb-ec08f7dbc6b7"
      },
      "execution_count": null,
      "outputs": [
        {
          "output_type": "execute_result",
          "data": {
            "text/plain": [
              "30"
            ]
          },
          "metadata": {},
          "execution_count": 135
        }
      ]
    },
    {
      "cell_type": "code",
      "source": [
        "# View all duplicated rows using your duplicated_rows_all filter\n",
        "# Sort by PassengerId\n",
        "df_titanic[duplicated_rows_all].sort_values(\"PassengerId\")"
      ],
      "metadata": {
        "id": "M8uqlb9SpWGV",
        "colab": {
          "base_uri": "https://localhost:8080/",
          "height": 1000
        },
        "outputId": "f13e813f-29fa-44a4-c220-3f722b4faba2"
      },
      "execution_count": null,
      "outputs": [
        {
          "output_type": "execute_result",
          "data": {
            "text/plain": [
              "     PassengerId  Survived  Pclass  \\\n",
              "77            78         0       3   \n",
              "902           78         0       3   \n",
              "337          338         1       1   \n",
              "899          338         1       1   \n",
              "362          363         0       3   \n",
              "896          363         0       3   \n",
              "447          448         1       1   \n",
              "892          448         1       1   \n",
              "464          465         0       3   \n",
              "898          465         0       3   \n",
              "573          574         1       3   \n",
              "897          574         1       3   \n",
              "895          580         1       3   \n",
              "579          580         1       3   \n",
              "622          623         1       3   \n",
              "901          623         1       3   \n",
              "904          624         0       3   \n",
              "623          624         0       3   \n",
              "894          668         0       3   \n",
              "667          668         0       3   \n",
              "903          716         0       3   \n",
              "715          716         0       3   \n",
              "724          725         1       1   \n",
              "900          725         1       1   \n",
              "891          767         0       1   \n",
              "766          767         0       1   \n",
              "893          808         0       3   \n",
              "807          808         0       3   \n",
              "888          889         0       3   \n",
              "905          889         0       3   \n",
              "\n",
              "                                           Name     Sex   Age  \\\n",
              "77                     Moutal, Mr. Rahamin Haim    male   NaN   \n",
              "902                    Moutal, Mr. Rahamin Haim    male   NaN   \n",
              "337             Burns, Miss. Elizabeth Margaret  female  41.0   \n",
              "899             Burns, Miss. Elizabeth Margaret  female  41.0   \n",
              "362             Barbara, Mrs. (Catherine David)  female  45.0   \n",
              "896             Barbara, Mrs. (Catherine David)  female  45.0   \n",
              "447                 Seward, Mr. Frederic Kimber    male  34.0   \n",
              "892                 Seward, Mr. Frederic Kimber    male  34.0   \n",
              "464                          Maisner, Mr. Simon    male   NaN   \n",
              "898                          Maisner, Mr. Simon    male   NaN   \n",
              "573                           Kelly, Miss. Mary  female   NaN   \n",
              "897                           Kelly, Miss. Mary  female   NaN   \n",
              "895                         Jussila, Mr. Eiriik    male  32.0   \n",
              "579                         Jussila, Mr. Eiriik    male  32.0   \n",
              "622                            Nakid, Mr. Sahid    male  20.0   \n",
              "901                            Nakid, Mr. Sahid    male  20.0   \n",
              "904                 Hansen, Mr. Henry Damsgaard    male  21.0   \n",
              "623                 Hansen, Mr. Henry Damsgaard    male  21.0   \n",
              "894                  Rommetvedt, Mr. Knud Paust    male   NaN   \n",
              "667                  Rommetvedt, Mr. Knud Paust    male   NaN   \n",
              "903  Soholt, Mr. Peter Andreas Lauritz Andersen    male  19.0   \n",
              "715  Soholt, Mr. Peter Andreas Lauritz Andersen    male  19.0   \n",
              "724               Chambers, Mr. Norman Campbell    male  27.0   \n",
              "900               Chambers, Mr. Norman Campbell    male  27.0   \n",
              "891                   Brewe, Dr. Arthur Jackson    male   NaN   \n",
              "766                   Brewe, Dr. Arthur Jackson    male   NaN   \n",
              "893             Pettersson, Miss. Ellen Natalia  female  18.0   \n",
              "807             Pettersson, Miss. Ellen Natalia  female  18.0   \n",
              "888    Johnston, Miss. Catherine Helen \"Carrie\"  female   NaN   \n",
              "905    Johnston, Miss. Catherine Helen \"Carrie\"  female   NaN   \n",
              "\n",
              "     Sibling or Spouses  Parents or Children             Ticket    Fare  \\\n",
              "77                  0.0                    0             374746    8.05   \n",
              "902                 0.0                    0             374746    8.05   \n",
              "337                 0.0                    0              16966  134.50   \n",
              "899                 0.0                    0              16966  134.50   \n",
              "362                 0.0                    1               2691   14.45   \n",
              "896                 0.0                    1               2691   14.45   \n",
              "447                 0.0                    0             113794   26.55   \n",
              "892                 0.0                    0             113794   26.55   \n",
              "464                 0.0                    0           A/S 2816    8.05   \n",
              "898                 0.0                    0           A/S 2816    8.05   \n",
              "573                 0.0                    0              14312    7.75   \n",
              "897                 0.0                    0              14312    7.75   \n",
              "895                 0.0                    0  STON/O 2. 3101286    7.93   \n",
              "579                 0.0                    0  STON/O 2. 3101286    7.93   \n",
              "622                 1.0                    1               2653   15.74   \n",
              "901                 1.0                    1               2653   15.74   \n",
              "904                 0.0                    0             350029    7.85   \n",
              "623                 0.0                    0             350029    7.85   \n",
              "894                 0.0                    0             312993    7.78   \n",
              "667                 0.0                    0             312993    7.78   \n",
              "903                 0.0                    0             348124    7.65   \n",
              "715                 0.0                    0             348124    7.65   \n",
              "724                 1.0                    0             113806   53.10   \n",
              "900                 1.0                    0             113806   53.10   \n",
              "891                 0.0                    0             112379   39.60   \n",
              "766                 0.0                    0             112379   39.60   \n",
              "893                 0.0                    0             347087    7.78   \n",
              "807                 0.0                    0             347087    7.78   \n",
              "888                 1.0                    2         W./C. 6607   23.45   \n",
              "905                 1.0                    2         W./C. 6607   23.45   \n",
              "\n",
              "     Cabin Embarked  \n",
              "77     NaN        S  \n",
              "902    NaN        S  \n",
              "337    E40        C  \n",
              "899    E40        C  \n",
              "362    NaN        C  \n",
              "896    NaN        C  \n",
              "447    NaN        S  \n",
              "892    NaN        S  \n",
              "464    NaN        S  \n",
              "898    NaN        S  \n",
              "573    NaN        Q  \n",
              "897    NaN        Q  \n",
              "895    NaN        S  \n",
              "579    NaN        S  \n",
              "622    NaN        C  \n",
              "901    NaN        C  \n",
              "904    NaN        S  \n",
              "623    NaN        S  \n",
              "894    NaN        S  \n",
              "667    NaN        S  \n",
              "903  F G73        S  \n",
              "715  F G73        S  \n",
              "724     E8        S  \n",
              "900     E8        S  \n",
              "891    NaN        C  \n",
              "766    NaN        C  \n",
              "893    NaN        S  \n",
              "807    NaN        S  \n",
              "888    NaN        S  \n",
              "905    NaN        S  "
            ],
            "text/html": [
              "\n",
              "  <div id=\"df-212b002b-156c-489a-b132-1c3ff61ca2ed\">\n",
              "    <div class=\"colab-df-container\">\n",
              "      <div>\n",
              "<style scoped>\n",
              "    .dataframe tbody tr th:only-of-type {\n",
              "        vertical-align: middle;\n",
              "    }\n",
              "\n",
              "    .dataframe tbody tr th {\n",
              "        vertical-align: top;\n",
              "    }\n",
              "\n",
              "    .dataframe thead th {\n",
              "        text-align: right;\n",
              "    }\n",
              "</style>\n",
              "<table border=\"1\" class=\"dataframe\">\n",
              "  <thead>\n",
              "    <tr style=\"text-align: right;\">\n",
              "      <th></th>\n",
              "      <th>PassengerId</th>\n",
              "      <th>Survived</th>\n",
              "      <th>Pclass</th>\n",
              "      <th>Name</th>\n",
              "      <th>Sex</th>\n",
              "      <th>Age</th>\n",
              "      <th>Sibling or Spouses</th>\n",
              "      <th>Parents or Children</th>\n",
              "      <th>Ticket</th>\n",
              "      <th>Fare</th>\n",
              "      <th>Cabin</th>\n",
              "      <th>Embarked</th>\n",
              "    </tr>\n",
              "  </thead>\n",
              "  <tbody>\n",
              "    <tr>\n",
              "      <th>77</th>\n",
              "      <td>78</td>\n",
              "      <td>0</td>\n",
              "      <td>3</td>\n",
              "      <td>Moutal, Mr. Rahamin Haim</td>\n",
              "      <td>male</td>\n",
              "      <td>NaN</td>\n",
              "      <td>0.0</td>\n",
              "      <td>0</td>\n",
              "      <td>374746</td>\n",
              "      <td>8.05</td>\n",
              "      <td>NaN</td>\n",
              "      <td>S</td>\n",
              "    </tr>\n",
              "    <tr>\n",
              "      <th>902</th>\n",
              "      <td>78</td>\n",
              "      <td>0</td>\n",
              "      <td>3</td>\n",
              "      <td>Moutal, Mr. Rahamin Haim</td>\n",
              "      <td>male</td>\n",
              "      <td>NaN</td>\n",
              "      <td>0.0</td>\n",
              "      <td>0</td>\n",
              "      <td>374746</td>\n",
              "      <td>8.05</td>\n",
              "      <td>NaN</td>\n",
              "      <td>S</td>\n",
              "    </tr>\n",
              "    <tr>\n",
              "      <th>337</th>\n",
              "      <td>338</td>\n",
              "      <td>1</td>\n",
              "      <td>1</td>\n",
              "      <td>Burns, Miss. Elizabeth Margaret</td>\n",
              "      <td>female</td>\n",
              "      <td>41.0</td>\n",
              "      <td>0.0</td>\n",
              "      <td>0</td>\n",
              "      <td>16966</td>\n",
              "      <td>134.50</td>\n",
              "      <td>E40</td>\n",
              "      <td>C</td>\n",
              "    </tr>\n",
              "    <tr>\n",
              "      <th>899</th>\n",
              "      <td>338</td>\n",
              "      <td>1</td>\n",
              "      <td>1</td>\n",
              "      <td>Burns, Miss. Elizabeth Margaret</td>\n",
              "      <td>female</td>\n",
              "      <td>41.0</td>\n",
              "      <td>0.0</td>\n",
              "      <td>0</td>\n",
              "      <td>16966</td>\n",
              "      <td>134.50</td>\n",
              "      <td>E40</td>\n",
              "      <td>C</td>\n",
              "    </tr>\n",
              "    <tr>\n",
              "      <th>362</th>\n",
              "      <td>363</td>\n",
              "      <td>0</td>\n",
              "      <td>3</td>\n",
              "      <td>Barbara, Mrs. (Catherine David)</td>\n",
              "      <td>female</td>\n",
              "      <td>45.0</td>\n",
              "      <td>0.0</td>\n",
              "      <td>1</td>\n",
              "      <td>2691</td>\n",
              "      <td>14.45</td>\n",
              "      <td>NaN</td>\n",
              "      <td>C</td>\n",
              "    </tr>\n",
              "    <tr>\n",
              "      <th>896</th>\n",
              "      <td>363</td>\n",
              "      <td>0</td>\n",
              "      <td>3</td>\n",
              "      <td>Barbara, Mrs. (Catherine David)</td>\n",
              "      <td>female</td>\n",
              "      <td>45.0</td>\n",
              "      <td>0.0</td>\n",
              "      <td>1</td>\n",
              "      <td>2691</td>\n",
              "      <td>14.45</td>\n",
              "      <td>NaN</td>\n",
              "      <td>C</td>\n",
              "    </tr>\n",
              "    <tr>\n",
              "      <th>447</th>\n",
              "      <td>448</td>\n",
              "      <td>1</td>\n",
              "      <td>1</td>\n",
              "      <td>Seward, Mr. Frederic Kimber</td>\n",
              "      <td>male</td>\n",
              "      <td>34.0</td>\n",
              "      <td>0.0</td>\n",
              "      <td>0</td>\n",
              "      <td>113794</td>\n",
              "      <td>26.55</td>\n",
              "      <td>NaN</td>\n",
              "      <td>S</td>\n",
              "    </tr>\n",
              "    <tr>\n",
              "      <th>892</th>\n",
              "      <td>448</td>\n",
              "      <td>1</td>\n",
              "      <td>1</td>\n",
              "      <td>Seward, Mr. Frederic Kimber</td>\n",
              "      <td>male</td>\n",
              "      <td>34.0</td>\n",
              "      <td>0.0</td>\n",
              "      <td>0</td>\n",
              "      <td>113794</td>\n",
              "      <td>26.55</td>\n",
              "      <td>NaN</td>\n",
              "      <td>S</td>\n",
              "    </tr>\n",
              "    <tr>\n",
              "      <th>464</th>\n",
              "      <td>465</td>\n",
              "      <td>0</td>\n",
              "      <td>3</td>\n",
              "      <td>Maisner, Mr. Simon</td>\n",
              "      <td>male</td>\n",
              "      <td>NaN</td>\n",
              "      <td>0.0</td>\n",
              "      <td>0</td>\n",
              "      <td>A/S 2816</td>\n",
              "      <td>8.05</td>\n",
              "      <td>NaN</td>\n",
              "      <td>S</td>\n",
              "    </tr>\n",
              "    <tr>\n",
              "      <th>898</th>\n",
              "      <td>465</td>\n",
              "      <td>0</td>\n",
              "      <td>3</td>\n",
              "      <td>Maisner, Mr. Simon</td>\n",
              "      <td>male</td>\n",
              "      <td>NaN</td>\n",
              "      <td>0.0</td>\n",
              "      <td>0</td>\n",
              "      <td>A/S 2816</td>\n",
              "      <td>8.05</td>\n",
              "      <td>NaN</td>\n",
              "      <td>S</td>\n",
              "    </tr>\n",
              "    <tr>\n",
              "      <th>573</th>\n",
              "      <td>574</td>\n",
              "      <td>1</td>\n",
              "      <td>3</td>\n",
              "      <td>Kelly, Miss. Mary</td>\n",
              "      <td>female</td>\n",
              "      <td>NaN</td>\n",
              "      <td>0.0</td>\n",
              "      <td>0</td>\n",
              "      <td>14312</td>\n",
              "      <td>7.75</td>\n",
              "      <td>NaN</td>\n",
              "      <td>Q</td>\n",
              "    </tr>\n",
              "    <tr>\n",
              "      <th>897</th>\n",
              "      <td>574</td>\n",
              "      <td>1</td>\n",
              "      <td>3</td>\n",
              "      <td>Kelly, Miss. Mary</td>\n",
              "      <td>female</td>\n",
              "      <td>NaN</td>\n",
              "      <td>0.0</td>\n",
              "      <td>0</td>\n",
              "      <td>14312</td>\n",
              "      <td>7.75</td>\n",
              "      <td>NaN</td>\n",
              "      <td>Q</td>\n",
              "    </tr>\n",
              "    <tr>\n",
              "      <th>895</th>\n",
              "      <td>580</td>\n",
              "      <td>1</td>\n",
              "      <td>3</td>\n",
              "      <td>Jussila, Mr. Eiriik</td>\n",
              "      <td>male</td>\n",
              "      <td>32.0</td>\n",
              "      <td>0.0</td>\n",
              "      <td>0</td>\n",
              "      <td>STON/O 2. 3101286</td>\n",
              "      <td>7.93</td>\n",
              "      <td>NaN</td>\n",
              "      <td>S</td>\n",
              "    </tr>\n",
              "    <tr>\n",
              "      <th>579</th>\n",
              "      <td>580</td>\n",
              "      <td>1</td>\n",
              "      <td>3</td>\n",
              "      <td>Jussila, Mr. Eiriik</td>\n",
              "      <td>male</td>\n",
              "      <td>32.0</td>\n",
              "      <td>0.0</td>\n",
              "      <td>0</td>\n",
              "      <td>STON/O 2. 3101286</td>\n",
              "      <td>7.93</td>\n",
              "      <td>NaN</td>\n",
              "      <td>S</td>\n",
              "    </tr>\n",
              "    <tr>\n",
              "      <th>622</th>\n",
              "      <td>623</td>\n",
              "      <td>1</td>\n",
              "      <td>3</td>\n",
              "      <td>Nakid, Mr. Sahid</td>\n",
              "      <td>male</td>\n",
              "      <td>20.0</td>\n",
              "      <td>1.0</td>\n",
              "      <td>1</td>\n",
              "      <td>2653</td>\n",
              "      <td>15.74</td>\n",
              "      <td>NaN</td>\n",
              "      <td>C</td>\n",
              "    </tr>\n",
              "    <tr>\n",
              "      <th>901</th>\n",
              "      <td>623</td>\n",
              "      <td>1</td>\n",
              "      <td>3</td>\n",
              "      <td>Nakid, Mr. Sahid</td>\n",
              "      <td>male</td>\n",
              "      <td>20.0</td>\n",
              "      <td>1.0</td>\n",
              "      <td>1</td>\n",
              "      <td>2653</td>\n",
              "      <td>15.74</td>\n",
              "      <td>NaN</td>\n",
              "      <td>C</td>\n",
              "    </tr>\n",
              "    <tr>\n",
              "      <th>904</th>\n",
              "      <td>624</td>\n",
              "      <td>0</td>\n",
              "      <td>3</td>\n",
              "      <td>Hansen, Mr. Henry Damsgaard</td>\n",
              "      <td>male</td>\n",
              "      <td>21.0</td>\n",
              "      <td>0.0</td>\n",
              "      <td>0</td>\n",
              "      <td>350029</td>\n",
              "      <td>7.85</td>\n",
              "      <td>NaN</td>\n",
              "      <td>S</td>\n",
              "    </tr>\n",
              "    <tr>\n",
              "      <th>623</th>\n",
              "      <td>624</td>\n",
              "      <td>0</td>\n",
              "      <td>3</td>\n",
              "      <td>Hansen, Mr. Henry Damsgaard</td>\n",
              "      <td>male</td>\n",
              "      <td>21.0</td>\n",
              "      <td>0.0</td>\n",
              "      <td>0</td>\n",
              "      <td>350029</td>\n",
              "      <td>7.85</td>\n",
              "      <td>NaN</td>\n",
              "      <td>S</td>\n",
              "    </tr>\n",
              "    <tr>\n",
              "      <th>894</th>\n",
              "      <td>668</td>\n",
              "      <td>0</td>\n",
              "      <td>3</td>\n",
              "      <td>Rommetvedt, Mr. Knud Paust</td>\n",
              "      <td>male</td>\n",
              "      <td>NaN</td>\n",
              "      <td>0.0</td>\n",
              "      <td>0</td>\n",
              "      <td>312993</td>\n",
              "      <td>7.78</td>\n",
              "      <td>NaN</td>\n",
              "      <td>S</td>\n",
              "    </tr>\n",
              "    <tr>\n",
              "      <th>667</th>\n",
              "      <td>668</td>\n",
              "      <td>0</td>\n",
              "      <td>3</td>\n",
              "      <td>Rommetvedt, Mr. Knud Paust</td>\n",
              "      <td>male</td>\n",
              "      <td>NaN</td>\n",
              "      <td>0.0</td>\n",
              "      <td>0</td>\n",
              "      <td>312993</td>\n",
              "      <td>7.78</td>\n",
              "      <td>NaN</td>\n",
              "      <td>S</td>\n",
              "    </tr>\n",
              "    <tr>\n",
              "      <th>903</th>\n",
              "      <td>716</td>\n",
              "      <td>0</td>\n",
              "      <td>3</td>\n",
              "      <td>Soholt, Mr. Peter Andreas Lauritz Andersen</td>\n",
              "      <td>male</td>\n",
              "      <td>19.0</td>\n",
              "      <td>0.0</td>\n",
              "      <td>0</td>\n",
              "      <td>348124</td>\n",
              "      <td>7.65</td>\n",
              "      <td>F G73</td>\n",
              "      <td>S</td>\n",
              "    </tr>\n",
              "    <tr>\n",
              "      <th>715</th>\n",
              "      <td>716</td>\n",
              "      <td>0</td>\n",
              "      <td>3</td>\n",
              "      <td>Soholt, Mr. Peter Andreas Lauritz Andersen</td>\n",
              "      <td>male</td>\n",
              "      <td>19.0</td>\n",
              "      <td>0.0</td>\n",
              "      <td>0</td>\n",
              "      <td>348124</td>\n",
              "      <td>7.65</td>\n",
              "      <td>F G73</td>\n",
              "      <td>S</td>\n",
              "    </tr>\n",
              "    <tr>\n",
              "      <th>724</th>\n",
              "      <td>725</td>\n",
              "      <td>1</td>\n",
              "      <td>1</td>\n",
              "      <td>Chambers, Mr. Norman Campbell</td>\n",
              "      <td>male</td>\n",
              "      <td>27.0</td>\n",
              "      <td>1.0</td>\n",
              "      <td>0</td>\n",
              "      <td>113806</td>\n",
              "      <td>53.10</td>\n",
              "      <td>E8</td>\n",
              "      <td>S</td>\n",
              "    </tr>\n",
              "    <tr>\n",
              "      <th>900</th>\n",
              "      <td>725</td>\n",
              "      <td>1</td>\n",
              "      <td>1</td>\n",
              "      <td>Chambers, Mr. Norman Campbell</td>\n",
              "      <td>male</td>\n",
              "      <td>27.0</td>\n",
              "      <td>1.0</td>\n",
              "      <td>0</td>\n",
              "      <td>113806</td>\n",
              "      <td>53.10</td>\n",
              "      <td>E8</td>\n",
              "      <td>S</td>\n",
              "    </tr>\n",
              "    <tr>\n",
              "      <th>891</th>\n",
              "      <td>767</td>\n",
              "      <td>0</td>\n",
              "      <td>1</td>\n",
              "      <td>Brewe, Dr. Arthur Jackson</td>\n",
              "      <td>male</td>\n",
              "      <td>NaN</td>\n",
              "      <td>0.0</td>\n",
              "      <td>0</td>\n",
              "      <td>112379</td>\n",
              "      <td>39.60</td>\n",
              "      <td>NaN</td>\n",
              "      <td>C</td>\n",
              "    </tr>\n",
              "    <tr>\n",
              "      <th>766</th>\n",
              "      <td>767</td>\n",
              "      <td>0</td>\n",
              "      <td>1</td>\n",
              "      <td>Brewe, Dr. Arthur Jackson</td>\n",
              "      <td>male</td>\n",
              "      <td>NaN</td>\n",
              "      <td>0.0</td>\n",
              "      <td>0</td>\n",
              "      <td>112379</td>\n",
              "      <td>39.60</td>\n",
              "      <td>NaN</td>\n",
              "      <td>C</td>\n",
              "    </tr>\n",
              "    <tr>\n",
              "      <th>893</th>\n",
              "      <td>808</td>\n",
              "      <td>0</td>\n",
              "      <td>3</td>\n",
              "      <td>Pettersson, Miss. Ellen Natalia</td>\n",
              "      <td>female</td>\n",
              "      <td>18.0</td>\n",
              "      <td>0.0</td>\n",
              "      <td>0</td>\n",
              "      <td>347087</td>\n",
              "      <td>7.78</td>\n",
              "      <td>NaN</td>\n",
              "      <td>S</td>\n",
              "    </tr>\n",
              "    <tr>\n",
              "      <th>807</th>\n",
              "      <td>808</td>\n",
              "      <td>0</td>\n",
              "      <td>3</td>\n",
              "      <td>Pettersson, Miss. Ellen Natalia</td>\n",
              "      <td>female</td>\n",
              "      <td>18.0</td>\n",
              "      <td>0.0</td>\n",
              "      <td>0</td>\n",
              "      <td>347087</td>\n",
              "      <td>7.78</td>\n",
              "      <td>NaN</td>\n",
              "      <td>S</td>\n",
              "    </tr>\n",
              "    <tr>\n",
              "      <th>888</th>\n",
              "      <td>889</td>\n",
              "      <td>0</td>\n",
              "      <td>3</td>\n",
              "      <td>Johnston, Miss. Catherine Helen \"Carrie\"</td>\n",
              "      <td>female</td>\n",
              "      <td>NaN</td>\n",
              "      <td>1.0</td>\n",
              "      <td>2</td>\n",
              "      <td>W./C. 6607</td>\n",
              "      <td>23.45</td>\n",
              "      <td>NaN</td>\n",
              "      <td>S</td>\n",
              "    </tr>\n",
              "    <tr>\n",
              "      <th>905</th>\n",
              "      <td>889</td>\n",
              "      <td>0</td>\n",
              "      <td>3</td>\n",
              "      <td>Johnston, Miss. Catherine Helen \"Carrie\"</td>\n",
              "      <td>female</td>\n",
              "      <td>NaN</td>\n",
              "      <td>1.0</td>\n",
              "      <td>2</td>\n",
              "      <td>W./C. 6607</td>\n",
              "      <td>23.45</td>\n",
              "      <td>NaN</td>\n",
              "      <td>S</td>\n",
              "    </tr>\n",
              "  </tbody>\n",
              "</table>\n",
              "</div>\n",
              "      <button class=\"colab-df-convert\" onclick=\"convertToInteractive('df-212b002b-156c-489a-b132-1c3ff61ca2ed')\"\n",
              "              title=\"Convert this dataframe to an interactive table.\"\n",
              "              style=\"display:none;\">\n",
              "        \n",
              "  <svg xmlns=\"http://www.w3.org/2000/svg\" height=\"24px\"viewBox=\"0 0 24 24\"\n",
              "       width=\"24px\">\n",
              "    <path d=\"M0 0h24v24H0V0z\" fill=\"none\"/>\n",
              "    <path d=\"M18.56 5.44l.94 2.06.94-2.06 2.06-.94-2.06-.94-.94-2.06-.94 2.06-2.06.94zm-11 1L8.5 8.5l.94-2.06 2.06-.94-2.06-.94L8.5 2.5l-.94 2.06-2.06.94zm10 10l.94 2.06.94-2.06 2.06-.94-2.06-.94-.94-2.06-.94 2.06-2.06.94z\"/><path d=\"M17.41 7.96l-1.37-1.37c-.4-.4-.92-.59-1.43-.59-.52 0-1.04.2-1.43.59L10.3 9.45l-7.72 7.72c-.78.78-.78 2.05 0 2.83L4 21.41c.39.39.9.59 1.41.59.51 0 1.02-.2 1.41-.59l7.78-7.78 2.81-2.81c.8-.78.8-2.07 0-2.86zM5.41 20L4 18.59l7.72-7.72 1.47 1.35L5.41 20z\"/>\n",
              "  </svg>\n",
              "      </button>\n",
              "      \n",
              "  <style>\n",
              "    .colab-df-container {\n",
              "      display:flex;\n",
              "      flex-wrap:wrap;\n",
              "      gap: 12px;\n",
              "    }\n",
              "\n",
              "    .colab-df-convert {\n",
              "      background-color: #E8F0FE;\n",
              "      border: none;\n",
              "      border-radius: 50%;\n",
              "      cursor: pointer;\n",
              "      display: none;\n",
              "      fill: #1967D2;\n",
              "      height: 32px;\n",
              "      padding: 0 0 0 0;\n",
              "      width: 32px;\n",
              "    }\n",
              "\n",
              "    .colab-df-convert:hover {\n",
              "      background-color: #E2EBFA;\n",
              "      box-shadow: 0px 1px 2px rgba(60, 64, 67, 0.3), 0px 1px 3px 1px rgba(60, 64, 67, 0.15);\n",
              "      fill: #174EA6;\n",
              "    }\n",
              "\n",
              "    [theme=dark] .colab-df-convert {\n",
              "      background-color: #3B4455;\n",
              "      fill: #D2E3FC;\n",
              "    }\n",
              "\n",
              "    [theme=dark] .colab-df-convert:hover {\n",
              "      background-color: #434B5C;\n",
              "      box-shadow: 0px 1px 3px 1px rgba(0, 0, 0, 0.15);\n",
              "      filter: drop-shadow(0px 1px 2px rgba(0, 0, 0, 0.3));\n",
              "      fill: #FFFFFF;\n",
              "    }\n",
              "  </style>\n",
              "\n",
              "      <script>\n",
              "        const buttonEl =\n",
              "          document.querySelector('#df-212b002b-156c-489a-b132-1c3ff61ca2ed button.colab-df-convert');\n",
              "        buttonEl.style.display =\n",
              "          google.colab.kernel.accessAllowed ? 'block' : 'none';\n",
              "\n",
              "        async function convertToInteractive(key) {\n",
              "          const element = document.querySelector('#df-212b002b-156c-489a-b132-1c3ff61ca2ed');\n",
              "          const dataTable =\n",
              "            await google.colab.kernel.invokeFunction('convertToInteractive',\n",
              "                                                     [key], {});\n",
              "          if (!dataTable) return;\n",
              "\n",
              "          const docLinkHtml = 'Like what you see? Visit the ' +\n",
              "            '<a target=\"_blank\" href=https://colab.research.google.com/notebooks/data_table.ipynb>data table notebook</a>'\n",
              "            + ' to learn more about interactive tables.';\n",
              "          element.innerHTML = '';\n",
              "          dataTable['output_type'] = 'display_data';\n",
              "          await google.colab.output.renderOutput(dataTable, element);\n",
              "          const docLink = document.createElement('div');\n",
              "          docLink.innerHTML = docLinkHtml;\n",
              "          element.appendChild(docLink);\n",
              "        }\n",
              "      </script>\n",
              "    </div>\n",
              "  </div>\n",
              "  "
            ]
          },
          "metadata": {},
          "execution_count": 136
        }
      ]
    },
    {
      "cell_type": "code",
      "source": [
        "# Drop duplicates (but keep the first!)\n",
        "df_titanic = df_titanic.drop_duplicates()\n",
        "\n",
        "# Obtain the sum of duplicated to confirm all have been dropped\n",
        "df_titanic.duplicated().sum()"
      ],
      "metadata": {
        "id": "Hu7Q0QBBrZ6-",
        "colab": {
          "base_uri": "https://localhost:8080/"
        },
        "outputId": "81e176ad-8197-4c37-fff8-ea781acc2eae"
      },
      "execution_count": null,
      "outputs": [
        {
          "output_type": "execute_result",
          "data": {
            "text/plain": [
              "0"
            ]
          },
          "metadata": {},
          "execution_count": 137
        }
      ]
    },
    {
      "cell_type": "markdown",
      "source": [
        "## F) Unique Identifiers\n",
        "- Find and Drop Columns with Unique Values for Every Row."
      ],
      "metadata": {
        "id": "-sRW92--vM9d"
      }
    },
    {
      "cell_type": "code",
      "source": [
        "# Use .nunqiue() to get # of unique values for each column and save as a variable.\n",
        "df_titanic.nunique()"
      ],
      "metadata": {
        "id": "tckYwylSrnfv",
        "colab": {
          "base_uri": "https://localhost:8080/"
        },
        "outputId": "8d775167-a53d-47af-b95a-44be2196d1af"
      },
      "execution_count": null,
      "outputs": [
        {
          "output_type": "execute_result",
          "data": {
            "text/plain": [
              "PassengerId            891\n",
              "Survived                 2\n",
              "Pclass                   3\n",
              "Name                   891\n",
              "Sex                      3\n",
              "Age                     88\n",
              "Sibling or Spouses       7\n",
              "Parents or Children      7\n",
              "Ticket                 681\n",
              "Fare                   234\n",
              "Cabin                  147\n",
              "Embarked                 4\n",
              "dtype: int64"
            ]
          },
          "metadata": {},
          "execution_count": 138
        }
      ]
    },
    {
      "cell_type": "code",
      "source": [
        "# Use the result to determine if any of the columns have 100% unique values.\n",
        "df_titanic.nunique() / len(df_titanic) * 100"
      ],
      "metadata": {
        "id": "T8AYpVW_sLwi",
        "colab": {
          "base_uri": "https://localhost:8080/"
        },
        "outputId": "a2e61df7-de49-46fc-9e2d-b1b5c741fa49"
      },
      "execution_count": null,
      "outputs": [
        {
          "output_type": "execute_result",
          "data": {
            "text/plain": [
              "PassengerId            100.000000\n",
              "Survived                 0.224467\n",
              "Pclass                   0.336700\n",
              "Name                   100.000000\n",
              "Sex                      0.336700\n",
              "Age                      9.876543\n",
              "Sibling or Spouses       0.785634\n",
              "Parents or Children      0.785634\n",
              "Ticket                  76.430976\n",
              "Fare                    26.262626\n",
              "Cabin                   16.498316\n",
              "Embarked                 0.448934\n",
              "dtype: float64"
            ]
          },
          "metadata": {},
          "execution_count": 139
        }
      ]
    },
    {
      "cell_type": "markdown",
      "source": [
        "**Q: F1) Which 2 features have 100% unique values in every row?**\n",
        "- Your Answer:\n",
        "  - Column 1: PassengerId\n",
        "  - Column 2: Name\n",
        "\n"
      ],
      "metadata": {
        "id": "dY46t6uLwkLK"
      }
    },
    {
      "cell_type": "markdown",
      "source": [
        "\n",
        ">Generally, a column that is NOT the index, and has a unique value for each row will not be helpful for analysis and should be dropped from the data.\n",
        "\n",
        "- Inspect the two columns with 100% unique values:\n"
      ],
      "metadata": {
        "id": "AjlG5kS5wloA"
      }
    },
    {
      "cell_type": "code",
      "source": [
        "# Slice the two columns with 100% unique values to view\n",
        "df_titanic[[\"PassengerId\", \"Name\"]]\n"
      ],
      "metadata": {
        "id": "e3ufz9Ja8E-A",
        "colab": {
          "base_uri": "https://localhost:8080/",
          "height": 424
        },
        "outputId": "52088da0-b55b-4e4a-a1b1-3b71ffc4fe3a"
      },
      "execution_count": null,
      "outputs": [
        {
          "output_type": "execute_result",
          "data": {
            "text/plain": [
              "     PassengerId                                               Name\n",
              "0              1                            Braund, Mr. Owen Harris\n",
              "1              2  Cumings, Mrs. John Bradley (Florence Briggs Th...\n",
              "2              3                             Heikkinen, Miss. Laina\n",
              "3              4       Futrelle, Mrs. Jacques Heath (Lily May Peel)\n",
              "4              5                           Allen, Mr. William Henry\n",
              "..           ...                                                ...\n",
              "886          887                              Montvila, Rev. Juozas\n",
              "887          888                       Graham, Miss. Margaret Edith\n",
              "888          889           Johnston, Miss. Catherine Helen \"Carrie\"\n",
              "889          890                              Behr, Mr. Karl Howell\n",
              "890          891                                Dooley, Mr. Patrick\n",
              "\n",
              "[891 rows x 2 columns]"
            ],
            "text/html": [
              "\n",
              "  <div id=\"df-f6858f64-0c12-41ec-9ff8-d7b6c904a6f8\">\n",
              "    <div class=\"colab-df-container\">\n",
              "      <div>\n",
              "<style scoped>\n",
              "    .dataframe tbody tr th:only-of-type {\n",
              "        vertical-align: middle;\n",
              "    }\n",
              "\n",
              "    .dataframe tbody tr th {\n",
              "        vertical-align: top;\n",
              "    }\n",
              "\n",
              "    .dataframe thead th {\n",
              "        text-align: right;\n",
              "    }\n",
              "</style>\n",
              "<table border=\"1\" class=\"dataframe\">\n",
              "  <thead>\n",
              "    <tr style=\"text-align: right;\">\n",
              "      <th></th>\n",
              "      <th>PassengerId</th>\n",
              "      <th>Name</th>\n",
              "    </tr>\n",
              "  </thead>\n",
              "  <tbody>\n",
              "    <tr>\n",
              "      <th>0</th>\n",
              "      <td>1</td>\n",
              "      <td>Braund, Mr. Owen Harris</td>\n",
              "    </tr>\n",
              "    <tr>\n",
              "      <th>1</th>\n",
              "      <td>2</td>\n",
              "      <td>Cumings, Mrs. John Bradley (Florence Briggs Th...</td>\n",
              "    </tr>\n",
              "    <tr>\n",
              "      <th>2</th>\n",
              "      <td>3</td>\n",
              "      <td>Heikkinen, Miss. Laina</td>\n",
              "    </tr>\n",
              "    <tr>\n",
              "      <th>3</th>\n",
              "      <td>4</td>\n",
              "      <td>Futrelle, Mrs. Jacques Heath (Lily May Peel)</td>\n",
              "    </tr>\n",
              "    <tr>\n",
              "      <th>4</th>\n",
              "      <td>5</td>\n",
              "      <td>Allen, Mr. William Henry</td>\n",
              "    </tr>\n",
              "    <tr>\n",
              "      <th>...</th>\n",
              "      <td>...</td>\n",
              "      <td>...</td>\n",
              "    </tr>\n",
              "    <tr>\n",
              "      <th>886</th>\n",
              "      <td>887</td>\n",
              "      <td>Montvila, Rev. Juozas</td>\n",
              "    </tr>\n",
              "    <tr>\n",
              "      <th>887</th>\n",
              "      <td>888</td>\n",
              "      <td>Graham, Miss. Margaret Edith</td>\n",
              "    </tr>\n",
              "    <tr>\n",
              "      <th>888</th>\n",
              "      <td>889</td>\n",
              "      <td>Johnston, Miss. Catherine Helen \"Carrie\"</td>\n",
              "    </tr>\n",
              "    <tr>\n",
              "      <th>889</th>\n",
              "      <td>890</td>\n",
              "      <td>Behr, Mr. Karl Howell</td>\n",
              "    </tr>\n",
              "    <tr>\n",
              "      <th>890</th>\n",
              "      <td>891</td>\n",
              "      <td>Dooley, Mr. Patrick</td>\n",
              "    </tr>\n",
              "  </tbody>\n",
              "</table>\n",
              "<p>891 rows × 2 columns</p>\n",
              "</div>\n",
              "      <button class=\"colab-df-convert\" onclick=\"convertToInteractive('df-f6858f64-0c12-41ec-9ff8-d7b6c904a6f8')\"\n",
              "              title=\"Convert this dataframe to an interactive table.\"\n",
              "              style=\"display:none;\">\n",
              "        \n",
              "  <svg xmlns=\"http://www.w3.org/2000/svg\" height=\"24px\"viewBox=\"0 0 24 24\"\n",
              "       width=\"24px\">\n",
              "    <path d=\"M0 0h24v24H0V0z\" fill=\"none\"/>\n",
              "    <path d=\"M18.56 5.44l.94 2.06.94-2.06 2.06-.94-2.06-.94-.94-2.06-.94 2.06-2.06.94zm-11 1L8.5 8.5l.94-2.06 2.06-.94-2.06-.94L8.5 2.5l-.94 2.06-2.06.94zm10 10l.94 2.06.94-2.06 2.06-.94-2.06-.94-.94-2.06-.94 2.06-2.06.94z\"/><path d=\"M17.41 7.96l-1.37-1.37c-.4-.4-.92-.59-1.43-.59-.52 0-1.04.2-1.43.59L10.3 9.45l-7.72 7.72c-.78.78-.78 2.05 0 2.83L4 21.41c.39.39.9.59 1.41.59.51 0 1.02-.2 1.41-.59l7.78-7.78 2.81-2.81c.8-.78.8-2.07 0-2.86zM5.41 20L4 18.59l7.72-7.72 1.47 1.35L5.41 20z\"/>\n",
              "  </svg>\n",
              "      </button>\n",
              "      \n",
              "  <style>\n",
              "    .colab-df-container {\n",
              "      display:flex;\n",
              "      flex-wrap:wrap;\n",
              "      gap: 12px;\n",
              "    }\n",
              "\n",
              "    .colab-df-convert {\n",
              "      background-color: #E8F0FE;\n",
              "      border: none;\n",
              "      border-radius: 50%;\n",
              "      cursor: pointer;\n",
              "      display: none;\n",
              "      fill: #1967D2;\n",
              "      height: 32px;\n",
              "      padding: 0 0 0 0;\n",
              "      width: 32px;\n",
              "    }\n",
              "\n",
              "    .colab-df-convert:hover {\n",
              "      background-color: #E2EBFA;\n",
              "      box-shadow: 0px 1px 2px rgba(60, 64, 67, 0.3), 0px 1px 3px 1px rgba(60, 64, 67, 0.15);\n",
              "      fill: #174EA6;\n",
              "    }\n",
              "\n",
              "    [theme=dark] .colab-df-convert {\n",
              "      background-color: #3B4455;\n",
              "      fill: #D2E3FC;\n",
              "    }\n",
              "\n",
              "    [theme=dark] .colab-df-convert:hover {\n",
              "      background-color: #434B5C;\n",
              "      box-shadow: 0px 1px 3px 1px rgba(0, 0, 0, 0.15);\n",
              "      filter: drop-shadow(0px 1px 2px rgba(0, 0, 0, 0.3));\n",
              "      fill: #FFFFFF;\n",
              "    }\n",
              "  </style>\n",
              "\n",
              "      <script>\n",
              "        const buttonEl =\n",
              "          document.querySelector('#df-f6858f64-0c12-41ec-9ff8-d7b6c904a6f8 button.colab-df-convert');\n",
              "        buttonEl.style.display =\n",
              "          google.colab.kernel.accessAllowed ? 'block' : 'none';\n",
              "\n",
              "        async function convertToInteractive(key) {\n",
              "          const element = document.querySelector('#df-f6858f64-0c12-41ec-9ff8-d7b6c904a6f8');\n",
              "          const dataTable =\n",
              "            await google.colab.kernel.invokeFunction('convertToInteractive',\n",
              "                                                     [key], {});\n",
              "          if (!dataTable) return;\n",
              "\n",
              "          const docLinkHtml = 'Like what you see? Visit the ' +\n",
              "            '<a target=\"_blank\" href=https://colab.research.google.com/notebooks/data_table.ipynb>data table notebook</a>'\n",
              "            + ' to learn more about interactive tables.';\n",
              "          element.innerHTML = '';\n",
              "          dataTable['output_type'] = 'display_data';\n",
              "          await google.colab.output.renderOutput(dataTable, element);\n",
              "          const docLink = document.createElement('div');\n",
              "          docLink.innerHTML = docLinkHtml;\n",
              "          element.appendChild(docLink);\n",
              "        }\n",
              "      </script>\n",
              "    </div>\n",
              "  </div>\n",
              "  "
            ]
          },
          "metadata": {},
          "execution_count": 140
        }
      ]
    },
    {
      "cell_type": "markdown",
      "source": [
        "\n",
        "- **Of the two columns with 100% unique values:**\n",
        "  - Set the numeric column as the DataFrame's index.\n",
        "  - Drop the string column from the DataFrame.\n"
      ],
      "metadata": {
        "id": "UJKNjv2s8C4-"
      }
    },
    {
      "cell_type": "code",
      "source": [
        "# Set the numeric column as the DataFrame's index.\n",
        "\n",
        "df_titanic = df_titanic.set_index('PassengerId')\n",
        "df_titanic.head()"
      ],
      "metadata": {
        "id": "o9CdeowaPKBr",
        "colab": {
          "base_uri": "https://localhost:8080/",
          "height": 237
        },
        "outputId": "eaad4c9c-9732-4dad-fdb8-8213081f3ce1"
      },
      "execution_count": null,
      "outputs": [
        {
          "output_type": "execute_result",
          "data": {
            "text/plain": [
              "             Survived  Pclass  \\\n",
              "PassengerId                     \n",
              "1                   0       3   \n",
              "2                   1       1   \n",
              "3                   1       3   \n",
              "4                   1       1   \n",
              "5                   0       3   \n",
              "\n",
              "                                                          Name     Sex   Age  \\\n",
              "PassengerId                                                                    \n",
              "1                                      Braund, Mr. Owen Harris    male  22.0   \n",
              "2            Cumings, Mrs. John Bradley (Florence Briggs Th...  female  38.0   \n",
              "3                                       Heikkinen, Miss. Laina  female  26.0   \n",
              "4                 Futrelle, Mrs. Jacques Heath (Lily May Peel)  female  35.0   \n",
              "5                                     Allen, Mr. William Henry    male  35.0   \n",
              "\n",
              "             Sibling or Spouses  Parents or Children            Ticket   Fare  \\\n",
              "PassengerId                                                                     \n",
              "1                           1.0                    0         A/5 21171   7.25   \n",
              "2                           1.0                    0          PC 17599  71.28   \n",
              "3                           0.0                    0  STON/O2. 3101282   7.93   \n",
              "4                           1.0                    0            113803  53.10   \n",
              "5                           0.0                    0            373450   8.05   \n",
              "\n",
              "            Cabin Embarked  \n",
              "PassengerId                 \n",
              "1             NaN        S  \n",
              "2             C85        C  \n",
              "3             NaN        S  \n",
              "4            C123        S  \n",
              "5             NaN        S  "
            ],
            "text/html": [
              "\n",
              "  <div id=\"df-c3b5319e-98fd-4aa4-862d-89417d0fa822\">\n",
              "    <div class=\"colab-df-container\">\n",
              "      <div>\n",
              "<style scoped>\n",
              "    .dataframe tbody tr th:only-of-type {\n",
              "        vertical-align: middle;\n",
              "    }\n",
              "\n",
              "    .dataframe tbody tr th {\n",
              "        vertical-align: top;\n",
              "    }\n",
              "\n",
              "    .dataframe thead th {\n",
              "        text-align: right;\n",
              "    }\n",
              "</style>\n",
              "<table border=\"1\" class=\"dataframe\">\n",
              "  <thead>\n",
              "    <tr style=\"text-align: right;\">\n",
              "      <th></th>\n",
              "      <th>Survived</th>\n",
              "      <th>Pclass</th>\n",
              "      <th>Name</th>\n",
              "      <th>Sex</th>\n",
              "      <th>Age</th>\n",
              "      <th>Sibling or Spouses</th>\n",
              "      <th>Parents or Children</th>\n",
              "      <th>Ticket</th>\n",
              "      <th>Fare</th>\n",
              "      <th>Cabin</th>\n",
              "      <th>Embarked</th>\n",
              "    </tr>\n",
              "    <tr>\n",
              "      <th>PassengerId</th>\n",
              "      <th></th>\n",
              "      <th></th>\n",
              "      <th></th>\n",
              "      <th></th>\n",
              "      <th></th>\n",
              "      <th></th>\n",
              "      <th></th>\n",
              "      <th></th>\n",
              "      <th></th>\n",
              "      <th></th>\n",
              "      <th></th>\n",
              "    </tr>\n",
              "  </thead>\n",
              "  <tbody>\n",
              "    <tr>\n",
              "      <th>1</th>\n",
              "      <td>0</td>\n",
              "      <td>3</td>\n",
              "      <td>Braund, Mr. Owen Harris</td>\n",
              "      <td>male</td>\n",
              "      <td>22.0</td>\n",
              "      <td>1.0</td>\n",
              "      <td>0</td>\n",
              "      <td>A/5 21171</td>\n",
              "      <td>7.25</td>\n",
              "      <td>NaN</td>\n",
              "      <td>S</td>\n",
              "    </tr>\n",
              "    <tr>\n",
              "      <th>2</th>\n",
              "      <td>1</td>\n",
              "      <td>1</td>\n",
              "      <td>Cumings, Mrs. John Bradley (Florence Briggs Th...</td>\n",
              "      <td>female</td>\n",
              "      <td>38.0</td>\n",
              "      <td>1.0</td>\n",
              "      <td>0</td>\n",
              "      <td>PC 17599</td>\n",
              "      <td>71.28</td>\n",
              "      <td>C85</td>\n",
              "      <td>C</td>\n",
              "    </tr>\n",
              "    <tr>\n",
              "      <th>3</th>\n",
              "      <td>1</td>\n",
              "      <td>3</td>\n",
              "      <td>Heikkinen, Miss. Laina</td>\n",
              "      <td>female</td>\n",
              "      <td>26.0</td>\n",
              "      <td>0.0</td>\n",
              "      <td>0</td>\n",
              "      <td>STON/O2. 3101282</td>\n",
              "      <td>7.93</td>\n",
              "      <td>NaN</td>\n",
              "      <td>S</td>\n",
              "    </tr>\n",
              "    <tr>\n",
              "      <th>4</th>\n",
              "      <td>1</td>\n",
              "      <td>1</td>\n",
              "      <td>Futrelle, Mrs. Jacques Heath (Lily May Peel)</td>\n",
              "      <td>female</td>\n",
              "      <td>35.0</td>\n",
              "      <td>1.0</td>\n",
              "      <td>0</td>\n",
              "      <td>113803</td>\n",
              "      <td>53.10</td>\n",
              "      <td>C123</td>\n",
              "      <td>S</td>\n",
              "    </tr>\n",
              "    <tr>\n",
              "      <th>5</th>\n",
              "      <td>0</td>\n",
              "      <td>3</td>\n",
              "      <td>Allen, Mr. William Henry</td>\n",
              "      <td>male</td>\n",
              "      <td>35.0</td>\n",
              "      <td>0.0</td>\n",
              "      <td>0</td>\n",
              "      <td>373450</td>\n",
              "      <td>8.05</td>\n",
              "      <td>NaN</td>\n",
              "      <td>S</td>\n",
              "    </tr>\n",
              "  </tbody>\n",
              "</table>\n",
              "</div>\n",
              "      <button class=\"colab-df-convert\" onclick=\"convertToInteractive('df-c3b5319e-98fd-4aa4-862d-89417d0fa822')\"\n",
              "              title=\"Convert this dataframe to an interactive table.\"\n",
              "              style=\"display:none;\">\n",
              "        \n",
              "  <svg xmlns=\"http://www.w3.org/2000/svg\" height=\"24px\"viewBox=\"0 0 24 24\"\n",
              "       width=\"24px\">\n",
              "    <path d=\"M0 0h24v24H0V0z\" fill=\"none\"/>\n",
              "    <path d=\"M18.56 5.44l.94 2.06.94-2.06 2.06-.94-2.06-.94-.94-2.06-.94 2.06-2.06.94zm-11 1L8.5 8.5l.94-2.06 2.06-.94-2.06-.94L8.5 2.5l-.94 2.06-2.06.94zm10 10l.94 2.06.94-2.06 2.06-.94-2.06-.94-.94-2.06-.94 2.06-2.06.94z\"/><path d=\"M17.41 7.96l-1.37-1.37c-.4-.4-.92-.59-1.43-.59-.52 0-1.04.2-1.43.59L10.3 9.45l-7.72 7.72c-.78.78-.78 2.05 0 2.83L4 21.41c.39.39.9.59 1.41.59.51 0 1.02-.2 1.41-.59l7.78-7.78 2.81-2.81c.8-.78.8-2.07 0-2.86zM5.41 20L4 18.59l7.72-7.72 1.47 1.35L5.41 20z\"/>\n",
              "  </svg>\n",
              "      </button>\n",
              "      \n",
              "  <style>\n",
              "    .colab-df-container {\n",
              "      display:flex;\n",
              "      flex-wrap:wrap;\n",
              "      gap: 12px;\n",
              "    }\n",
              "\n",
              "    .colab-df-convert {\n",
              "      background-color: #E8F0FE;\n",
              "      border: none;\n",
              "      border-radius: 50%;\n",
              "      cursor: pointer;\n",
              "      display: none;\n",
              "      fill: #1967D2;\n",
              "      height: 32px;\n",
              "      padding: 0 0 0 0;\n",
              "      width: 32px;\n",
              "    }\n",
              "\n",
              "    .colab-df-convert:hover {\n",
              "      background-color: #E2EBFA;\n",
              "      box-shadow: 0px 1px 2px rgba(60, 64, 67, 0.3), 0px 1px 3px 1px rgba(60, 64, 67, 0.15);\n",
              "      fill: #174EA6;\n",
              "    }\n",
              "\n",
              "    [theme=dark] .colab-df-convert {\n",
              "      background-color: #3B4455;\n",
              "      fill: #D2E3FC;\n",
              "    }\n",
              "\n",
              "    [theme=dark] .colab-df-convert:hover {\n",
              "      background-color: #434B5C;\n",
              "      box-shadow: 0px 1px 3px 1px rgba(0, 0, 0, 0.15);\n",
              "      filter: drop-shadow(0px 1px 2px rgba(0, 0, 0, 0.3));\n",
              "      fill: #FFFFFF;\n",
              "    }\n",
              "  </style>\n",
              "\n",
              "      <script>\n",
              "        const buttonEl =\n",
              "          document.querySelector('#df-c3b5319e-98fd-4aa4-862d-89417d0fa822 button.colab-df-convert');\n",
              "        buttonEl.style.display =\n",
              "          google.colab.kernel.accessAllowed ? 'block' : 'none';\n",
              "\n",
              "        async function convertToInteractive(key) {\n",
              "          const element = document.querySelector('#df-c3b5319e-98fd-4aa4-862d-89417d0fa822');\n",
              "          const dataTable =\n",
              "            await google.colab.kernel.invokeFunction('convertToInteractive',\n",
              "                                                     [key], {});\n",
              "          if (!dataTable) return;\n",
              "\n",
              "          const docLinkHtml = 'Like what you see? Visit the ' +\n",
              "            '<a target=\"_blank\" href=https://colab.research.google.com/notebooks/data_table.ipynb>data table notebook</a>'\n",
              "            + ' to learn more about interactive tables.';\n",
              "          element.innerHTML = '';\n",
              "          dataTable['output_type'] = 'display_data';\n",
              "          await google.colab.output.renderOutput(dataTable, element);\n",
              "          const docLink = document.createElement('div');\n",
              "          docLink.innerHTML = docLinkHtml;\n",
              "          element.appendChild(docLink);\n",
              "        }\n",
              "      </script>\n",
              "    </div>\n",
              "  </div>\n",
              "  "
            ]
          },
          "metadata": {},
          "execution_count": 141
        }
      ]
    },
    {
      "cell_type": "code",
      "source": [
        "# Drop the string column from the DataFrame.\n",
        "df_titanic = df_titanic.drop(columns = 'Name')\n"
      ],
      "metadata": {
        "id": "qWFEp-0mIJPS"
      },
      "execution_count": null,
      "outputs": []
    },
    {
      "cell_type": "markdown",
      "source": [
        "___"
      ],
      "metadata": {
        "id": "nJhExoQOngnU"
      }
    },
    {
      "cell_type": "markdown",
      "source": [
        "## G) Missing Values"
      ],
      "metadata": {
        "id": "ALkAT9sjg4Ki"
      }
    },
    {
      "cell_type": "code",
      "source": [
        "# Get the number of null values for all columns and save as a variable\n",
        "df_titanic.isna().sum()"
      ],
      "metadata": {
        "id": "U-4SuxM_8zpR",
        "colab": {
          "base_uri": "https://localhost:8080/"
        },
        "outputId": "d4ffbfd7-e191-4d21-cecb-dc2d8ae053db"
      },
      "execution_count": null,
      "outputs": [
        {
          "output_type": "execute_result",
          "data": {
            "text/plain": [
              "Survived                 0\n",
              "Pclass                   0\n",
              "Sex                      0\n",
              "Age                    177\n",
              "Sibling or Spouses       0\n",
              "Parents or Children      0\n",
              "Ticket                   0\n",
              "Fare                     0\n",
              "Cabin                  687\n",
              "Embarked                 2\n",
              "dtype: int64"
            ]
          },
          "metadata": {},
          "execution_count": 143
        }
      ]
    },
    {
      "cell_type": "code",
      "source": [
        "# Use this result to calculate the percentage of null values for each column.\n",
        "df_titanic.isna()/len(df_titanic) *100"
      ],
      "metadata": {
        "id": "qiuyojKC9CSj",
        "colab": {
          "base_uri": "https://localhost:8080/",
          "height": 455
        },
        "outputId": "798396a0-ffd3-4cf8-9a91-16bf3b631a81"
      },
      "execution_count": null,
      "outputs": [
        {
          "output_type": "execute_result",
          "data": {
            "text/plain": [
              "             Survived  Pclass  Sex       Age  Sibling or Spouses  \\\n",
              "PassengerId                                                        \n",
              "1                 0.0     0.0  0.0  0.000000                 0.0   \n",
              "2                 0.0     0.0  0.0  0.000000                 0.0   \n",
              "3                 0.0     0.0  0.0  0.000000                 0.0   \n",
              "4                 0.0     0.0  0.0  0.000000                 0.0   \n",
              "5                 0.0     0.0  0.0  0.000000                 0.0   \n",
              "...               ...     ...  ...       ...                 ...   \n",
              "887               0.0     0.0  0.0  0.000000                 0.0   \n",
              "888               0.0     0.0  0.0  0.000000                 0.0   \n",
              "889               0.0     0.0  0.0  0.112233                 0.0   \n",
              "890               0.0     0.0  0.0  0.000000                 0.0   \n",
              "891               0.0     0.0  0.0  0.000000                 0.0   \n",
              "\n",
              "             Parents or Children  Ticket  Fare     Cabin  Embarked  \n",
              "PassengerId                                                         \n",
              "1                            0.0     0.0   0.0  0.112233       0.0  \n",
              "2                            0.0     0.0   0.0  0.000000       0.0  \n",
              "3                            0.0     0.0   0.0  0.112233       0.0  \n",
              "4                            0.0     0.0   0.0  0.000000       0.0  \n",
              "5                            0.0     0.0   0.0  0.112233       0.0  \n",
              "...                          ...     ...   ...       ...       ...  \n",
              "887                          0.0     0.0   0.0  0.112233       0.0  \n",
              "888                          0.0     0.0   0.0  0.000000       0.0  \n",
              "889                          0.0     0.0   0.0  0.112233       0.0  \n",
              "890                          0.0     0.0   0.0  0.000000       0.0  \n",
              "891                          0.0     0.0   0.0  0.112233       0.0  \n",
              "\n",
              "[891 rows x 10 columns]"
            ],
            "text/html": [
              "\n",
              "  <div id=\"df-50fb0e6b-9d56-4982-b015-b64f340cb9b1\">\n",
              "    <div class=\"colab-df-container\">\n",
              "      <div>\n",
              "<style scoped>\n",
              "    .dataframe tbody tr th:only-of-type {\n",
              "        vertical-align: middle;\n",
              "    }\n",
              "\n",
              "    .dataframe tbody tr th {\n",
              "        vertical-align: top;\n",
              "    }\n",
              "\n",
              "    .dataframe thead th {\n",
              "        text-align: right;\n",
              "    }\n",
              "</style>\n",
              "<table border=\"1\" class=\"dataframe\">\n",
              "  <thead>\n",
              "    <tr style=\"text-align: right;\">\n",
              "      <th></th>\n",
              "      <th>Survived</th>\n",
              "      <th>Pclass</th>\n",
              "      <th>Sex</th>\n",
              "      <th>Age</th>\n",
              "      <th>Sibling or Spouses</th>\n",
              "      <th>Parents or Children</th>\n",
              "      <th>Ticket</th>\n",
              "      <th>Fare</th>\n",
              "      <th>Cabin</th>\n",
              "      <th>Embarked</th>\n",
              "    </tr>\n",
              "    <tr>\n",
              "      <th>PassengerId</th>\n",
              "      <th></th>\n",
              "      <th></th>\n",
              "      <th></th>\n",
              "      <th></th>\n",
              "      <th></th>\n",
              "      <th></th>\n",
              "      <th></th>\n",
              "      <th></th>\n",
              "      <th></th>\n",
              "      <th></th>\n",
              "    </tr>\n",
              "  </thead>\n",
              "  <tbody>\n",
              "    <tr>\n",
              "      <th>1</th>\n",
              "      <td>0.0</td>\n",
              "      <td>0.0</td>\n",
              "      <td>0.0</td>\n",
              "      <td>0.000000</td>\n",
              "      <td>0.0</td>\n",
              "      <td>0.0</td>\n",
              "      <td>0.0</td>\n",
              "      <td>0.0</td>\n",
              "      <td>0.112233</td>\n",
              "      <td>0.0</td>\n",
              "    </tr>\n",
              "    <tr>\n",
              "      <th>2</th>\n",
              "      <td>0.0</td>\n",
              "      <td>0.0</td>\n",
              "      <td>0.0</td>\n",
              "      <td>0.000000</td>\n",
              "      <td>0.0</td>\n",
              "      <td>0.0</td>\n",
              "      <td>0.0</td>\n",
              "      <td>0.0</td>\n",
              "      <td>0.000000</td>\n",
              "      <td>0.0</td>\n",
              "    </tr>\n",
              "    <tr>\n",
              "      <th>3</th>\n",
              "      <td>0.0</td>\n",
              "      <td>0.0</td>\n",
              "      <td>0.0</td>\n",
              "      <td>0.000000</td>\n",
              "      <td>0.0</td>\n",
              "      <td>0.0</td>\n",
              "      <td>0.0</td>\n",
              "      <td>0.0</td>\n",
              "      <td>0.112233</td>\n",
              "      <td>0.0</td>\n",
              "    </tr>\n",
              "    <tr>\n",
              "      <th>4</th>\n",
              "      <td>0.0</td>\n",
              "      <td>0.0</td>\n",
              "      <td>0.0</td>\n",
              "      <td>0.000000</td>\n",
              "      <td>0.0</td>\n",
              "      <td>0.0</td>\n",
              "      <td>0.0</td>\n",
              "      <td>0.0</td>\n",
              "      <td>0.000000</td>\n",
              "      <td>0.0</td>\n",
              "    </tr>\n",
              "    <tr>\n",
              "      <th>5</th>\n",
              "      <td>0.0</td>\n",
              "      <td>0.0</td>\n",
              "      <td>0.0</td>\n",
              "      <td>0.000000</td>\n",
              "      <td>0.0</td>\n",
              "      <td>0.0</td>\n",
              "      <td>0.0</td>\n",
              "      <td>0.0</td>\n",
              "      <td>0.112233</td>\n",
              "      <td>0.0</td>\n",
              "    </tr>\n",
              "    <tr>\n",
              "      <th>...</th>\n",
              "      <td>...</td>\n",
              "      <td>...</td>\n",
              "      <td>...</td>\n",
              "      <td>...</td>\n",
              "      <td>...</td>\n",
              "      <td>...</td>\n",
              "      <td>...</td>\n",
              "      <td>...</td>\n",
              "      <td>...</td>\n",
              "      <td>...</td>\n",
              "    </tr>\n",
              "    <tr>\n",
              "      <th>887</th>\n",
              "      <td>0.0</td>\n",
              "      <td>0.0</td>\n",
              "      <td>0.0</td>\n",
              "      <td>0.000000</td>\n",
              "      <td>0.0</td>\n",
              "      <td>0.0</td>\n",
              "      <td>0.0</td>\n",
              "      <td>0.0</td>\n",
              "      <td>0.112233</td>\n",
              "      <td>0.0</td>\n",
              "    </tr>\n",
              "    <tr>\n",
              "      <th>888</th>\n",
              "      <td>0.0</td>\n",
              "      <td>0.0</td>\n",
              "      <td>0.0</td>\n",
              "      <td>0.000000</td>\n",
              "      <td>0.0</td>\n",
              "      <td>0.0</td>\n",
              "      <td>0.0</td>\n",
              "      <td>0.0</td>\n",
              "      <td>0.000000</td>\n",
              "      <td>0.0</td>\n",
              "    </tr>\n",
              "    <tr>\n",
              "      <th>889</th>\n",
              "      <td>0.0</td>\n",
              "      <td>0.0</td>\n",
              "      <td>0.0</td>\n",
              "      <td>0.112233</td>\n",
              "      <td>0.0</td>\n",
              "      <td>0.0</td>\n",
              "      <td>0.0</td>\n",
              "      <td>0.0</td>\n",
              "      <td>0.112233</td>\n",
              "      <td>0.0</td>\n",
              "    </tr>\n",
              "    <tr>\n",
              "      <th>890</th>\n",
              "      <td>0.0</td>\n",
              "      <td>0.0</td>\n",
              "      <td>0.0</td>\n",
              "      <td>0.000000</td>\n",
              "      <td>0.0</td>\n",
              "      <td>0.0</td>\n",
              "      <td>0.0</td>\n",
              "      <td>0.0</td>\n",
              "      <td>0.000000</td>\n",
              "      <td>0.0</td>\n",
              "    </tr>\n",
              "    <tr>\n",
              "      <th>891</th>\n",
              "      <td>0.0</td>\n",
              "      <td>0.0</td>\n",
              "      <td>0.0</td>\n",
              "      <td>0.000000</td>\n",
              "      <td>0.0</td>\n",
              "      <td>0.0</td>\n",
              "      <td>0.0</td>\n",
              "      <td>0.0</td>\n",
              "      <td>0.112233</td>\n",
              "      <td>0.0</td>\n",
              "    </tr>\n",
              "  </tbody>\n",
              "</table>\n",
              "<p>891 rows × 10 columns</p>\n",
              "</div>\n",
              "      <button class=\"colab-df-convert\" onclick=\"convertToInteractive('df-50fb0e6b-9d56-4982-b015-b64f340cb9b1')\"\n",
              "              title=\"Convert this dataframe to an interactive table.\"\n",
              "              style=\"display:none;\">\n",
              "        \n",
              "  <svg xmlns=\"http://www.w3.org/2000/svg\" height=\"24px\"viewBox=\"0 0 24 24\"\n",
              "       width=\"24px\">\n",
              "    <path d=\"M0 0h24v24H0V0z\" fill=\"none\"/>\n",
              "    <path d=\"M18.56 5.44l.94 2.06.94-2.06 2.06-.94-2.06-.94-.94-2.06-.94 2.06-2.06.94zm-11 1L8.5 8.5l.94-2.06 2.06-.94-2.06-.94L8.5 2.5l-.94 2.06-2.06.94zm10 10l.94 2.06.94-2.06 2.06-.94-2.06-.94-.94-2.06-.94 2.06-2.06.94z\"/><path d=\"M17.41 7.96l-1.37-1.37c-.4-.4-.92-.59-1.43-.59-.52 0-1.04.2-1.43.59L10.3 9.45l-7.72 7.72c-.78.78-.78 2.05 0 2.83L4 21.41c.39.39.9.59 1.41.59.51 0 1.02-.2 1.41-.59l7.78-7.78 2.81-2.81c.8-.78.8-2.07 0-2.86zM5.41 20L4 18.59l7.72-7.72 1.47 1.35L5.41 20z\"/>\n",
              "  </svg>\n",
              "      </button>\n",
              "      \n",
              "  <style>\n",
              "    .colab-df-container {\n",
              "      display:flex;\n",
              "      flex-wrap:wrap;\n",
              "      gap: 12px;\n",
              "    }\n",
              "\n",
              "    .colab-df-convert {\n",
              "      background-color: #E8F0FE;\n",
              "      border: none;\n",
              "      border-radius: 50%;\n",
              "      cursor: pointer;\n",
              "      display: none;\n",
              "      fill: #1967D2;\n",
              "      height: 32px;\n",
              "      padding: 0 0 0 0;\n",
              "      width: 32px;\n",
              "    }\n",
              "\n",
              "    .colab-df-convert:hover {\n",
              "      background-color: #E2EBFA;\n",
              "      box-shadow: 0px 1px 2px rgba(60, 64, 67, 0.3), 0px 1px 3px 1px rgba(60, 64, 67, 0.15);\n",
              "      fill: #174EA6;\n",
              "    }\n",
              "\n",
              "    [theme=dark] .colab-df-convert {\n",
              "      background-color: #3B4455;\n",
              "      fill: #D2E3FC;\n",
              "    }\n",
              "\n",
              "    [theme=dark] .colab-df-convert:hover {\n",
              "      background-color: #434B5C;\n",
              "      box-shadow: 0px 1px 3px 1px rgba(0, 0, 0, 0.15);\n",
              "      filter: drop-shadow(0px 1px 2px rgba(0, 0, 0, 0.3));\n",
              "      fill: #FFFFFF;\n",
              "    }\n",
              "  </style>\n",
              "\n",
              "      <script>\n",
              "        const buttonEl =\n",
              "          document.querySelector('#df-50fb0e6b-9d56-4982-b015-b64f340cb9b1 button.colab-df-convert');\n",
              "        buttonEl.style.display =\n",
              "          google.colab.kernel.accessAllowed ? 'block' : 'none';\n",
              "\n",
              "        async function convertToInteractive(key) {\n",
              "          const element = document.querySelector('#df-50fb0e6b-9d56-4982-b015-b64f340cb9b1');\n",
              "          const dataTable =\n",
              "            await google.colab.kernel.invokeFunction('convertToInteractive',\n",
              "                                                     [key], {});\n",
              "          if (!dataTable) return;\n",
              "\n",
              "          const docLinkHtml = 'Like what you see? Visit the ' +\n",
              "            '<a target=\"_blank\" href=https://colab.research.google.com/notebooks/data_table.ipynb>data table notebook</a>'\n",
              "            + ' to learn more about interactive tables.';\n",
              "          element.innerHTML = '';\n",
              "          dataTable['output_type'] = 'display_data';\n",
              "          await google.colab.output.renderOutput(dataTable, element);\n",
              "          const docLink = document.createElement('div');\n",
              "          docLink.innerHTML = docLinkHtml;\n",
              "          element.appendChild(docLink);\n",
              "        }\n",
              "      </script>\n",
              "    </div>\n",
              "  </div>\n",
              "  "
            ]
          },
          "metadata": {},
          "execution_count": 144
        }
      ]
    },
    {
      "cell_type": "code",
      "source": [
        "# Visualize the missing values using the missingno package's matrix plot.\n",
        "import missingno as msno\n",
        "msno.matrix(df_titanic);\n"
      ],
      "metadata": {
        "id": "HnosP_kkg8pZ",
        "colab": {
          "base_uri": "https://localhost:8080/",
          "height": 701
        },
        "outputId": "f9c384fa-495c-41e4-ecbd-1072087d8568"
      },
      "execution_count": null,
      "outputs": [
        {
          "output_type": "display_data",
          "data": {
            "text/plain": [
              "<Figure size 2500x1000 with 2 Axes>"
            ],
            "image/png": "[encoded data removed]"
          },
          "metadata": {}
        }
      ]
    },
    {
      "cell_type": "markdown",
      "source": [
        "#### Address the null values:\n",
        "\n",
        "- Fill the null values in categorical columns with a placeholder category called MISSING.\n"
      ],
      "metadata": {
        "id": "fOFhPHaP9uEI"
      }
    },
    {
      "cell_type": "code",
      "source": [
        "# save list of categorical column name. (Hint: select_dtypes)\n",
        "cat_cols = df_titanic.select_dtypes('object').columns\n",
        "cat_cols"
      ],
      "metadata": {
        "id": "wHMxb7Dn9t5M",
        "colab": {
          "base_uri": "https://localhost:8080/"
        },
        "outputId": "fe85aa5c-0cde-4833-db84-a7b6dd3273ec"
      },
      "execution_count": null,
      "outputs": [
        {
          "output_type": "execute_result",
          "data": {
            "text/plain": [
              "Index(['Sex', 'Ticket', 'Cabin', 'Embarked'], dtype='object')"
            ]
          },
          "metadata": {},
          "execution_count": 146
        }
      ]
    },
    {
      "cell_type": "code",
      "source": [
        "# use the list of cat columns to fill null values with MISSING\n",
        "\n",
        "df_titanic[cat_cols] = df_titanic[cat_cols].fillna(\"MISSING\")\n",
        "df_titanic[cat_cols].isna().sum()"
      ],
      "metadata": {
        "id": "9KPnBQXo985l",
        "colab": {
          "base_uri": "https://localhost:8080/"
        },
        "outputId": "1b7f9488-a7bb-42c6-a9dc-263e15f7d2d1"
      },
      "execution_count": null,
      "outputs": [
        {
          "output_type": "execute_result",
          "data": {
            "text/plain": [
              "Sex         0\n",
              "Ticket      0\n",
              "Cabin       0\n",
              "Embarked    0\n",
              "dtype: int64"
            ]
          },
          "metadata": {},
          "execution_count": 147
        }
      ]
    },
    {
      "cell_type": "markdown",
      "source": [
        "\n",
        "- Fill the null values in numeric columns with a placeholder value of -1\n",
        "\n"
      ],
      "metadata": {
        "id": "14JJ4da790lP"
      }
    },
    {
      "cell_type": "code",
      "source": [
        "# save list of numeric column names (Hint: select_dtypes)\n",
        "num_cols = df_titanic.select_dtypes('number').columns\n",
        "num_cols"
      ],
      "metadata": {
        "id": "ke8Ykwqk-FpT",
        "colab": {
          "base_uri": "https://localhost:8080/"
        },
        "outputId": "a2b4e659-4aae-49f3-9071-c514338fac17"
      },
      "execution_count": null,
      "outputs": [
        {
          "output_type": "execute_result",
          "data": {
            "text/plain": [
              "Index(['Survived', 'Pclass', 'Age', 'Sibling or Spouses',\n",
              "       'Parents or Children', 'Fare'],\n",
              "      dtype='object')"
            ]
          },
          "metadata": {},
          "execution_count": 148
        }
      ]
    },
    {
      "cell_type": "code",
      "source": [
        "# use the list of num columns to fill null values with -1\n",
        "df_titanic[num_cols] = df_titanic[num_cols].fillna(\"-1\")\n",
        "df_titanic[num_cols].isna().sum()"
      ],
      "metadata": {
        "id": "eEML0ii--JqR",
        "colab": {
          "base_uri": "https://localhost:8080/"
        },
        "outputId": "add2d070-b67c-42ff-82db-9e06ac7eaaa0"
      },
      "execution_count": null,
      "outputs": [
        {
          "output_type": "execute_result",
          "data": {
            "text/plain": [
              "Survived               0\n",
              "Pclass                 0\n",
              "Age                    0\n",
              "Sibling or Spouses     0\n",
              "Parents or Children    0\n",
              "Fare                   0\n",
              "dtype: int64"
            ]
          },
          "metadata": {},
          "execution_count": 149
        }
      ]
    },
    {
      "cell_type": "markdown",
      "source": [
        "- Use either missingno's matrix plot or Pandas to confirm that there are 0 null values remaining.\n"
      ],
      "metadata": {
        "id": "e9-VpWlI-P9U"
      }
    },
    {
      "cell_type": "code",
      "source": [
        "\n",
        "# Confirm no more nulls using Pandas\n",
        "df_titanic.isna().sum()"
      ],
      "metadata": {
        "id": "XHFu09ww-TUB",
        "colab": {
          "base_uri": "https://localhost:8080/"
        },
        "outputId": "a3918b31-e08c-42a7-d799-4b105c8d3912"
      },
      "execution_count": null,
      "outputs": [
        {
          "output_type": "execute_result",
          "data": {
            "text/plain": [
              "Survived               0\n",
              "Pclass                 0\n",
              "Sex                    0\n",
              "Age                    0\n",
              "Sibling or Spouses     0\n",
              "Parents or Children    0\n",
              "Ticket                 0\n",
              "Fare                   0\n",
              "Cabin                  0\n",
              "Embarked               0\n",
              "dtype: int64"
            ]
          },
          "metadata": {},
          "execution_count": 150
        }
      ]
    },
    {
      "cell_type": "code",
      "source": [
        "# Confirm no more nulls using using missingno\n",
        "msno.matrix(df_titanic)"
      ],
      "metadata": {
        "id": "p99EtFE1-Qi5",
        "colab": {
          "base_uri": "https://localhost:8080/",
          "height": 718
        },
        "outputId": "ece9eb98-a2ed-4461-ac85-f3285f449cea"
      },
      "execution_count": null,
      "outputs": [
        {
          "output_type": "execute_result",
          "data": {
            "text/plain": [
              "<Axes: >"
            ]
          },
          "metadata": {},
          "execution_count": 151
        },
        {
          "output_type": "display_data",
          "data": {
            "text/plain": [
              "<Figure size 2500x1000 with 2 Axes>"
            ],
            "image/png": "[encoded data removed]"
          },
          "metadata": {}
        }
      ]
    },
    {
      "cell_type": "markdown",
      "source": [
        "## H) Consistent Values"
      ],
      "metadata": {
        "id": "P4Q29-E1sinl"
      }
    },
    {
      "cell_type": "markdown",
      "source": [
        "- Check each string column's value counts for inconsistent values.\n",
        "  - E.g. \"Cat\" vs \"cat\", \"Y\" vs. \"Yes\"\n"
      ],
      "metadata": {
        "id": "nGwnkZUp_EkH"
      }
    },
    {
      "cell_type": "markdown",
      "source": [
        "\n",
        "- Fix/replace the inconsistent values with the values you believe are correct.\n",
        "\n",
        "\n",
        "- Display the value_counts again to confirm the values are now consistent.\n"
      ],
      "metadata": {
        "id": "u6BgPQTMCRJU"
      }
    },
    {
      "cell_type": "code",
      "source": [
        "# Save a list of object columns (Hint: select_dtypes)\n",
        "cat_cols = df_titanic.select_dtypes('object').columns"
      ],
      "metadata": {
        "id": "ldZvXpS4sk_R"
      },
      "execution_count": null,
      "outputs": []
    },
    {
      "cell_type": "code",
      "source": [
        "# Check the nunique for just the object cols\n",
        "cat_cols.nunique()"
      ],
      "metadata": {
        "id": "LTsmcfwPBBkE",
        "colab": {
          "base_uri": "https://localhost:8080/"
        },
        "outputId": "7f92ca0b-5dbe-4faa-a1f1-7a57a0d74133"
      },
      "execution_count": null,
      "outputs": [
        {
          "output_type": "execute_result",
          "data": {
            "text/plain": [
              "5"
            ]
          },
          "metadata": {},
          "execution_count": 153
        }
      ]
    },
    {
      "cell_type": "markdown",
      "source": [
        "- Note that out of the 4 categorical columns remaining:\n",
        "  - 2 columns have a small number of categories  (Sex and Embarked)\n",
        "  - 2 columns have over 100 categories (Ticket and Cabin).\n",
        "\n",
        "- We do not want to keep categorical features with so many categories.\n",
        "\n",
        "\n",
        "- **Drop the Ticket column and Cabin column.**"
      ],
      "metadata": {
        "id": "7uYkMA3wBR_c"
      }
    },
    {
      "cell_type": "code",
      "source": [
        "# Drop the columns listed above\n",
        "df_titanic = df_titanic.drop(columns = 'Cabin')\n",
        "df_titanic = df_titanic.drop(columns = 'Ticket')\n",
        "\n"
      ],
      "metadata": {
        "id": "rdJrpA81CA9x"
      },
      "execution_count": null,
      "outputs": []
    },
    {
      "cell_type": "markdown",
      "source": [
        "### For Each Remaining Categorical Column:\n",
        "\n",
        "- Display the value counts for the column\n",
        "- Take a note of any values that are not consistent.\n",
        "- Remove/fix the inconsistent values\n",
        "- Confirm by checking the value counts again"
      ],
      "metadata": {
        "id": "XYPnIB_bCKPH"
      }
    },
    {
      "cell_type": "code",
      "source": [
        "# Remake the list of string columns (after dropping previous cols)\n",
        "cat_cols = df_titanic.select_dtypes('object').columns\n",
        "\n",
        "# loop through the list of string columns\n",
        "\n",
        "  # print the value counts for the column\n",
        "\n",
        "  # Print an empty line for readability\n",
        "for col in cat_cols:\n",
        "  print(f\"Value Counts for {col}\")\n",
        "  print(df_titanic[col].value_counts())\n",
        "\n",
        "  print('\\n')"
      ],
      "metadata": {
        "id": "7zcVvQC0_Mp_",
        "colab": {
          "base_uri": "https://localhost:8080/"
        },
        "outputId": "a3ceba1a-3d5f-4b72-a6c1-757279c2a5a3"
      },
      "execution_count": null,
      "outputs": [
        {
          "output_type": "stream",
          "name": "stdout",
          "text": [
            "Value Counts for Sex\n",
            "male      574\n",
            "female    313\n",
            "F           4\n",
            "Name: Sex, dtype: int64\n",
            "\n",
            "\n",
            "Value Counts for Age\n",
            "-1      177\n",
            "24.0     30\n",
            "22.0     27\n",
            "18.0     26\n",
            "28.0     25\n",
            "       ... \n",
            "36.5      1\n",
            "55.5      1\n",
            "0.92      1\n",
            "23.5      1\n",
            "74.0      1\n",
            "Name: Age, Length: 89, dtype: int64\n",
            "\n",
            "\n",
            "Value Counts for Embarked\n",
            "S             644\n",
            "C             168\n",
            "Q              75\n",
            "MISSING         2\n",
            "Queenstown      2\n",
            "Name: Embarked, dtype: int64\n",
            "\n",
            "\n"
          ]
        }
      ]
    },
    {
      "cell_type": "markdown",
      "source": [
        "**Q: H1) Which columns have inconsistent values that need to be addressed?**\n",
        "- Your Answer:\n",
        "  - Sex\n",
        "  - Embarked"
      ],
      "metadata": {
        "id": "8nihiReBDuF8"
      }
    },
    {
      "cell_type": "markdown",
      "source": [
        "### Checking & Fixing Consistency: Column 1"
      ],
      "metadata": {
        "id": "W4Ql95JPCwTc"
      }
    },
    {
      "cell_type": "code",
      "source": [
        "# Check for inconsistencies by inspecting the value_counts for Embarked\n",
        "df_titanic['Embarked'].value_counts()"
      ],
      "metadata": {
        "id": "61tBYCkPwb5_",
        "colab": {
          "base_uri": "https://localhost:8080/"
        },
        "outputId": "36a7b9cb-b22d-4d0f-ad8b-f744e32d757e"
      },
      "execution_count": null,
      "outputs": [
        {
          "output_type": "execute_result",
          "data": {
            "text/plain": [
              "S             644\n",
              "C             168\n",
              "Q              75\n",
              "MISSING         2\n",
              "Queenstown      2\n",
              "Name: Embarked, dtype: int64"
            ]
          },
          "metadata": {},
          "execution_count": 157
        }
      ]
    },
    {
      "cell_type": "code",
      "source": [
        "# Replace \"Queenstown\" with \"Q\"\n",
        "df_titanic['Embarked'] = df_titanic['Embarked'].replace({\"Queenstown\" : \"Q\"})\n",
        "# Check the value counts again to confirm\n",
        "df_titanic['Embarked'].value_counts()"
      ],
      "metadata": {
        "id": "BJehF4pK5HOi",
        "colab": {
          "base_uri": "https://localhost:8080/"
        },
        "outputId": "b3966321-00b5-4560-a38e-4b07c070b082"
      },
      "execution_count": null,
      "outputs": [
        {
          "output_type": "execute_result",
          "data": {
            "text/plain": [
              "S          644\n",
              "C          168\n",
              "Q           77\n",
              "MISSING      2\n",
              "Name: Embarked, dtype: int64"
            ]
          },
          "metadata": {},
          "execution_count": 158
        }
      ]
    },
    {
      "cell_type": "markdown",
      "source": [
        "### Checking and Fixing Consistency: Column 2"
      ],
      "metadata": {
        "id": "Pb__EAJ3C3ir"
      }
    },
    {
      "cell_type": "code",
      "source": [
        "# # Check for inconsistencies by inspecting the values_counts for Sex\n",
        "df_titanic[\"Sex\"].value_counts()"
      ],
      "metadata": {
        "id": "lSqM-GyPs4BR",
        "colab": {
          "base_uri": "https://localhost:8080/"
        },
        "outputId": "6cf86015-1bc9-4abf-8d36-442e8b5eaec5"
      },
      "execution_count": null,
      "outputs": [
        {
          "output_type": "execute_result",
          "data": {
            "text/plain": [
              "male      574\n",
              "female    313\n",
              "F           4\n",
              "Name: Sex, dtype: int64"
            ]
          },
          "metadata": {},
          "execution_count": 159
        }
      ]
    },
    {
      "cell_type": "code",
      "source": [
        "# Replace \"F\" with \"female\"\n",
        "df_titanic[\"Sex\"] = df_titanic[\"Sex\"].replace({\"F\" : \"female\"})\n",
        "\n",
        "# Check the value counts again to confirm\n",
        "df_titanic[\"Sex\"].value_counts()\n"
      ],
      "metadata": {
        "id": "CyH6LiU9wYOR",
        "colab": {
          "base_uri": "https://localhost:8080/"
        },
        "outputId": "f73de589-3929-4648-d87d-85a5b105cebb"
      },
      "execution_count": null,
      "outputs": [
        {
          "output_type": "execute_result",
          "data": {
            "text/plain": [
              "male      574\n",
              "female    317\n",
              "Name: Sex, dtype: int64"
            ]
          },
          "metadata": {},
          "execution_count": 160
        }
      ]
    },
    {
      "cell_type": "code",
      "source": [
        "df_titanic.head()"
      ],
      "metadata": {
        "id": "oL_OX_SQwrQF",
        "outputId": "a8060e39-1dcf-445d-c2b5-92f2c0dc1536",
        "colab": {
          "base_uri": "https://localhost:8080/",
          "height": 237
        }
      },
      "execution_count": null,
      "outputs": [
        {
          "output_type": "execute_result",
          "data": {
            "text/plain": [
              "             Survived  Pclass     Sex   Age  Sibling or Spouses  \\\n",
              "PassengerId                                                       \n",
              "1                   0       3    male  22.0                 1.0   \n",
              "2                   1       1  female  38.0                 1.0   \n",
              "3                   1       3  female  26.0                 0.0   \n",
              "4                   1       1  female  35.0                 1.0   \n",
              "5                   0       3    male  35.0                 0.0   \n",
              "\n",
              "             Parents or Children   Fare Embarked  \n",
              "PassengerId                                       \n",
              "1                              0   7.25        S  \n",
              "2                              0  71.28        C  \n",
              "3                              0   7.93        S  \n",
              "4                              0  53.10        S  \n",
              "5                              0   8.05        S  "
            ],
            "text/html": [
              "\n",
              "  <div id=\"df-2839f3f0-ae3a-4090-9814-a13a5e213df5\">\n",
              "    <div class=\"colab-df-container\">\n",
              "      <div>\n",
              "<style scoped>\n",
              "    .dataframe tbody tr th:only-of-type {\n",
              "        vertical-align: middle;\n",
              "    }\n",
              "\n",
              "    .dataframe tbody tr th {\n",
              "        vertical-align: top;\n",
              "    }\n",
              "\n",
              "    .dataframe thead th {\n",
              "        text-align: right;\n",
              "    }\n",
              "</style>\n",
              "<table border=\"1\" class=\"dataframe\">\n",
              "  <thead>\n",
              "    <tr style=\"text-align: right;\">\n",
              "      <th></th>\n",
              "      <th>Survived</th>\n",
              "      <th>Pclass</th>\n",
              "      <th>Sex</th>\n",
              "      <th>Age</th>\n",
              "      <th>Sibling or Spouses</th>\n",
              "      <th>Parents or Children</th>\n",
              "      <th>Fare</th>\n",
              "      <th>Embarked</th>\n",
              "    </tr>\n",
              "    <tr>\n",
              "      <th>PassengerId</th>\n",
              "      <th></th>\n",
              "      <th></th>\n",
              "      <th></th>\n",
              "      <th></th>\n",
              "      <th></th>\n",
              "      <th></th>\n",
              "      <th></th>\n",
              "      <th></th>\n",
              "    </tr>\n",
              "  </thead>\n",
              "  <tbody>\n",
              "    <tr>\n",
              "      <th>1</th>\n",
              "      <td>0</td>\n",
              "      <td>3</td>\n",
              "      <td>male</td>\n",
              "      <td>22.0</td>\n",
              "      <td>1.0</td>\n",
              "      <td>0</td>\n",
              "      <td>7.25</td>\n",
              "      <td>S</td>\n",
              "    </tr>\n",
              "    <tr>\n",
              "      <th>2</th>\n",
              "      <td>1</td>\n",
              "      <td>1</td>\n",
              "      <td>female</td>\n",
              "      <td>38.0</td>\n",
              "      <td>1.0</td>\n",
              "      <td>0</td>\n",
              "      <td>71.28</td>\n",
              "      <td>C</td>\n",
              "    </tr>\n",
              "    <tr>\n",
              "      <th>3</th>\n",
              "      <td>1</td>\n",
              "      <td>3</td>\n",
              "      <td>female</td>\n",
              "      <td>26.0</td>\n",
              "      <td>0.0</td>\n",
              "      <td>0</td>\n",
              "      <td>7.93</td>\n",
              "      <td>S</td>\n",
              "    </tr>\n",
              "    <tr>\n",
              "      <th>4</th>\n",
              "      <td>1</td>\n",
              "      <td>1</td>\n",
              "      <td>female</td>\n",
              "      <td>35.0</td>\n",
              "      <td>1.0</td>\n",
              "      <td>0</td>\n",
              "      <td>53.10</td>\n",
              "      <td>S</td>\n",
              "    </tr>\n",
              "    <tr>\n",
              "      <th>5</th>\n",
              "      <td>0</td>\n",
              "      <td>3</td>\n",
              "      <td>male</td>\n",
              "      <td>35.0</td>\n",
              "      <td>0.0</td>\n",
              "      <td>0</td>\n",
              "      <td>8.05</td>\n",
              "      <td>S</td>\n",
              "    </tr>\n",
              "  </tbody>\n",
              "</table>\n",
              "</div>\n",
              "      <button class=\"colab-df-convert\" onclick=\"convertToInteractive('df-2839f3f0-ae3a-4090-9814-a13a5e213df5')\"\n",
              "              title=\"Convert this dataframe to an interactive table.\"\n",
              "              style=\"display:none;\">\n",
              "        \n",
              "  <svg xmlns=\"http://www.w3.org/2000/svg\" height=\"24px\"viewBox=\"0 0 24 24\"\n",
              "       width=\"24px\">\n",
              "    <path d=\"M0 0h24v24H0V0z\" fill=\"none\"/>\n",
              "    <path d=\"M18.56 5.44l.94 2.06.94-2.06 2.06-.94-2.06-.94-.94-2.06-.94 2.06-2.06.94zm-11 1L8.5 8.5l.94-2.06 2.06-.94-2.06-.94L8.5 2.5l-.94 2.06-2.06.94zm10 10l.94 2.06.94-2.06 2.06-.94-2.06-.94-.94-2.06-.94 2.06-2.06.94z\"/><path d=\"M17.41 7.96l-1.37-1.37c-.4-.4-.92-.59-1.43-.59-.52 0-1.04.2-1.43.59L10.3 9.45l-7.72 7.72c-.78.78-.78 2.05 0 2.83L4 21.41c.39.39.9.59 1.41.59.51 0 1.02-.2 1.41-.59l7.78-7.78 2.81-2.81c.8-.78.8-2.07 0-2.86zM5.41 20L4 18.59l7.72-7.72 1.47 1.35L5.41 20z\"/>\n",
              "  </svg>\n",
              "      </button>\n",
              "      \n",
              "  <style>\n",
              "    .colab-df-container {\n",
              "      display:flex;\n",
              "      flex-wrap:wrap;\n",
              "      gap: 12px;\n",
              "    }\n",
              "\n",
              "    .colab-df-convert {\n",
              "      background-color: #E8F0FE;\n",
              "      border: none;\n",
              "      border-radius: 50%;\n",
              "      cursor: pointer;\n",
              "      display: none;\n",
              "      fill: #1967D2;\n",
              "      height: 32px;\n",
              "      padding: 0 0 0 0;\n",
              "      width: 32px;\n",
              "    }\n",
              "\n",
              "    .colab-df-convert:hover {\n",
              "      background-color: #E2EBFA;\n",
              "      box-shadow: 0px 1px 2px rgba(60, 64, 67, 0.3), 0px 1px 3px 1px rgba(60, 64, 67, 0.15);\n",
              "      fill: #174EA6;\n",
              "    }\n",
              "\n",
              "    [theme=dark] .colab-df-convert {\n",
              "      background-color: #3B4455;\n",
              "      fill: #D2E3FC;\n",
              "    }\n",
              "\n",
              "    [theme=dark] .colab-df-convert:hover {\n",
              "      background-color: #434B5C;\n",
              "      box-shadow: 0px 1px 3px 1px rgba(0, 0, 0, 0.15);\n",
              "      filter: drop-shadow(0px 1px 2px rgba(0, 0, 0, 0.3));\n",
              "      fill: #FFFFFF;\n",
              "    }\n",
              "  </style>\n",
              "\n",
              "      <script>\n",
              "        const buttonEl =\n",
              "          document.querySelector('#df-2839f3f0-ae3a-4090-9814-a13a5e213df5 button.colab-df-convert');\n",
              "        buttonEl.style.display =\n",
              "          google.colab.kernel.accessAllowed ? 'block' : 'none';\n",
              "\n",
              "        async function convertToInteractive(key) {\n",
              "          const element = document.querySelector('#df-2839f3f0-ae3a-4090-9814-a13a5e213df5');\n",
              "          const dataTable =\n",
              "            await google.colab.kernel.invokeFunction('convertToInteractive',\n",
              "                                                     [key], {});\n",
              "          if (!dataTable) return;\n",
              "\n",
              "          const docLinkHtml = 'Like what you see? Visit the ' +\n",
              "            '<a target=\"_blank\" href=https://colab.research.google.com/notebooks/data_table.ipynb>data table notebook</a>'\n",
              "            + ' to learn more about interactive tables.';\n",
              "          element.innerHTML = '';\n",
              "          dataTable['output_type'] = 'display_data';\n",
              "          await google.colab.output.renderOutput(dataTable, element);\n",
              "          const docLink = document.createElement('div');\n",
              "          docLink.innerHTML = docLinkHtml;\n",
              "          element.appendChild(docLink);\n",
              "        }\n",
              "      </script>\n",
              "    </div>\n",
              "  </div>\n",
              "  "
            ]
          },
          "metadata": {},
          "execution_count": 161
        }
      ]
    },
    {
      "cell_type": "markdown",
      "source": [
        "## I) Save the Final DataFrame to Csv"
      ],
      "metadata": {
        "id": "pp4pJayZAJjv"
      }
    },
    {
      "cell_type": "markdown",
      "source": [
        "- Save the cleaned DataFrame to your Google Drive in the CodingDojo>  01-Fundamentals> Week02>Data folder.\n",
        "  - Name the file \"data-cleaning-core.csv\"\n"
      ],
      "metadata": {
        "id": "yYQEFYlcAL2K"
      }
    },
    {
      "cell_type": "code",
      "source": [
        "# Save the folder + filename as a variable called fpath\n",
        "fpath = \"/content/drive/MyDrive/StudentFolders16wk20wk/CodingDojo (1)/01-Fundamentals/Week02/Data/data-cleaning-core.csv\"\n",
        "\n",
        "\n",
        "# Use to_csv to save the dataframe using the filename\n",
        "df_titanic.to_csv(fpath, index = True)\n"
      ],
      "metadata": {
        "id": "DmeXHDo6AQLp"
      },
      "execution_count": null,
      "outputs": []
    },
    {
      "cell_type": "markdown",
      "source": [
        "- Confirm the data was saved correctly."
      ],
      "metadata": {
        "id": "FScEO0F0Amwh"
      }
    },
    {
      "cell_type": "code",
      "source": [
        "# Read in your new .csv file with Pandas.\n",
        "loaded = pd.read_csv(fpath)\n",
        "\n",
        "# Display the info summary.\n",
        "loaded.info()\n",
        "# Display the first 5 rows.\n",
        "loaded.head()"
      ],
      "metadata": {
        "id": "YmxIv8rBApEW",
        "colab": {
          "base_uri": "https://localhost:8080/",
          "height": 484
        },
        "outputId": "becf4d8f-d2bb-48ea-a246-a49d4702bb2e"
      },
      "execution_count": null,
      "outputs": [
        {
          "output_type": "stream",
          "name": "stdout",
          "text": [
            "<class 'pandas.core.frame.DataFrame'>\n",
            "RangeIndex: 891 entries, 0 to 890\n",
            "Data columns (total 9 columns):\n",
            " #   Column               Non-Null Count  Dtype  \n",
            "---  ------               --------------  -----  \n",
            " 0   PassengerId          891 non-null    int64  \n",
            " 1   Survived             891 non-null    int64  \n",
            " 2   Pclass               891 non-null    int64  \n",
            " 3   Sex                  891 non-null    object \n",
            " 4   Age                  891 non-null    float64\n",
            " 5   Sibling or Spouses   891 non-null    float64\n",
            " 6   Parents or Children  891 non-null    int64  \n",
            " 7   Fare                 891 non-null    float64\n",
            " 8   Embarked             891 non-null    object \n",
            "dtypes: float64(3), int64(4), object(2)\n",
            "memory usage: 62.8+ KB\n"
          ]
        },
        {
          "output_type": "execute_result",
          "data": {
            "text/plain": [
              "   PassengerId  Survived  Pclass     Sex   Age  Sibling or Spouses  \\\n",
              "0            1         0       3    male  22.0                 1.0   \n",
              "1            2         1       1  female  38.0                 1.0   \n",
              "2            3         1       3  female  26.0                 0.0   \n",
              "3            4         1       1  female  35.0                 1.0   \n",
              "4            5         0       3    male  35.0                 0.0   \n",
              "\n",
              "   Parents or Children   Fare Embarked  \n",
              "0                    0   7.25        S  \n",
              "1                    0  71.28        C  \n",
              "2                    0   7.93        S  \n",
              "3                    0  53.10        S  \n",
              "4                    0   8.05        S  "
            ],
            "text/html": [
              "\n",
              "  <div id=\"df-5c324a1b-1213-4aaa-8957-90f81b007a7b\">\n",
              "    <div class=\"colab-df-container\">\n",
              "      <div>\n",
              "<style scoped>\n",
              "    .dataframe tbody tr th:only-of-type {\n",
              "        vertical-align: middle;\n",
              "    }\n",
              "\n",
              "    .dataframe tbody tr th {\n",
              "        vertical-align: top;\n",
              "    }\n",
              "\n",
              "    .dataframe thead th {\n",
              "        text-align: right;\n",
              "    }\n",
              "</style>\n",
              "<table border=\"1\" class=\"dataframe\">\n",
              "  <thead>\n",
              "    <tr style=\"text-align: right;\">\n",
              "      <th></th>\n",
              "      <th>PassengerId</th>\n",
              "      <th>Survived</th>\n",
              "      <th>Pclass</th>\n",
              "      <th>Sex</th>\n",
              "      <th>Age</th>\n",
              "      <th>Sibling or Spouses</th>\n",
              "      <th>Parents or Children</th>\n",
              "      <th>Fare</th>\n",
              "      <th>Embarked</th>\n",
              "    </tr>\n",
              "  </thead>\n",
              "  <tbody>\n",
              "    <tr>\n",
              "      <th>0</th>\n",
              "      <td>1</td>\n",
              "      <td>0</td>\n",
              "      <td>3</td>\n",
              "      <td>male</td>\n",
              "      <td>22.0</td>\n",
              "      <td>1.0</td>\n",
              "      <td>0</td>\n",
              "      <td>7.25</td>\n",
              "      <td>S</td>\n",
              "    </tr>\n",
              "    <tr>\n",
              "      <th>1</th>\n",
              "      <td>2</td>\n",
              "      <td>1</td>\n",
              "      <td>1</td>\n",
              "      <td>female</td>\n",
              "      <td>38.0</td>\n",
              "      <td>1.0</td>\n",
              "      <td>0</td>\n",
              "      <td>71.28</td>\n",
              "      <td>C</td>\n",
              "    </tr>\n",
              "    <tr>\n",
              "      <th>2</th>\n",
              "      <td>3</td>\n",
              "      <td>1</td>\n",
              "      <td>3</td>\n",
              "      <td>female</td>\n",
              "      <td>26.0</td>\n",
              "      <td>0.0</td>\n",
              "      <td>0</td>\n",
              "      <td>7.93</td>\n",
              "      <td>S</td>\n",
              "    </tr>\n",
              "    <tr>\n",
              "      <th>3</th>\n",
              "      <td>4</td>\n",
              "      <td>1</td>\n",
              "      <td>1</td>\n",
              "      <td>female</td>\n",
              "      <td>35.0</td>\n",
              "      <td>1.0</td>\n",
              "      <td>0</td>\n",
              "      <td>53.10</td>\n",
              "      <td>S</td>\n",
              "    </tr>\n",
              "    <tr>\n",
              "      <th>4</th>\n",
              "      <td>5</td>\n",
              "      <td>0</td>\n",
              "      <td>3</td>\n",
              "      <td>male</td>\n",
              "      <td>35.0</td>\n",
              "      <td>0.0</td>\n",
              "      <td>0</td>\n",
              "      <td>8.05</td>\n",
              "      <td>S</td>\n",
              "    </tr>\n",
              "  </tbody>\n",
              "</table>\n",
              "</div>\n",
              "      <button class=\"colab-df-convert\" onclick=\"convertToInteractive('df-5c324a1b-1213-4aaa-8957-90f81b007a7b')\"\n",
              "              title=\"Convert this dataframe to an interactive table.\"\n",
              "              style=\"display:none;\">\n",
              "        \n",
              "  <svg xmlns=\"http://www.w3.org/2000/svg\" height=\"24px\"viewBox=\"0 0 24 24\"\n",
              "       width=\"24px\">\n",
              "    <path d=\"M0 0h24v24H0V0z\" fill=\"none\"/>\n",
              "    <path d=\"M18.56 5.44l.94 2.06.94-2.06 2.06-.94-2.06-.94-.94-2.06-.94 2.06-2.06.94zm-11 1L8.5 8.5l.94-2.06 2.06-.94-2.06-.94L8.5 2.5l-.94 2.06-2.06.94zm10 10l.94 2.06.94-2.06 2.06-.94-2.06-.94-.94-2.06-.94 2.06-2.06.94z\"/><path d=\"M17.41 7.96l-1.37-1.37c-.4-.4-.92-.59-1.43-.59-.52 0-1.04.2-1.43.59L10.3 9.45l-7.72 7.72c-.78.78-.78 2.05 0 2.83L4 21.41c.39.39.9.59 1.41.59.51 0 1.02-.2 1.41-.59l7.78-7.78 2.81-2.81c.8-.78.8-2.07 0-2.86zM5.41 20L4 18.59l7.72-7.72 1.47 1.35L5.41 20z\"/>\n",
              "  </svg>\n",
              "      </button>\n",
              "      \n",
              "  <style>\n",
              "    .colab-df-container {\n",
              "      display:flex;\n",
              "      flex-wrap:wrap;\n",
              "      gap: 12px;\n",
              "    }\n",
              "\n",
              "    .colab-df-convert {\n",
              "      background-color: #E8F0FE;\n",
              "      border: none;\n",
              "      border-radius: 50%;\n",
              "      cursor: pointer;\n",
              "      display: none;\n",
              "      fill: #1967D2;\n",
              "      height: 32px;\n",
              "      padding: 0 0 0 0;\n",
              "      width: 32px;\n",
              "    }\n",
              "\n",
              "    .colab-df-convert:hover {\n",
              "      background-color: #E2EBFA;\n",
              "      box-shadow: 0px 1px 2px rgba(60, 64, 67, 0.3), 0px 1px 3px 1px rgba(60, 64, 67, 0.15);\n",
              "      fill: #174EA6;\n",
              "    }\n",
              "\n",
              "    [theme=dark] .colab-df-convert {\n",
              "      background-color: #3B4455;\n",
              "      fill: #D2E3FC;\n",
              "    }\n",
              "\n",
              "    [theme=dark] .colab-df-convert:hover {\n",
              "      background-color: #434B5C;\n",
              "      box-shadow: 0px 1px 3px 1px rgba(0, 0, 0, 0.15);\n",
              "      filter: drop-shadow(0px 1px 2px rgba(0, 0, 0, 0.3));\n",
              "      fill: #FFFFFF;\n",
              "    }\n",
              "  </style>\n",
              "\n",
              "      <script>\n",
              "        const buttonEl =\n",
              "          document.querySelector('#df-5c324a1b-1213-4aaa-8957-90f81b007a7b button.colab-df-convert');\n",
              "        buttonEl.style.display =\n",
              "          google.colab.kernel.accessAllowed ? 'block' : 'none';\n",
              "\n",
              "        async function convertToInteractive(key) {\n",
              "          const element = document.querySelector('#df-5c324a1b-1213-4aaa-8957-90f81b007a7b');\n",
              "          const dataTable =\n",
              "            await google.colab.kernel.invokeFunction('convertToInteractive',\n",
              "                                                     [key], {});\n",
              "          if (!dataTable) return;\n",
              "\n",
              "          const docLinkHtml = 'Like what you see? Visit the ' +\n",
              "            '<a target=\"_blank\" href=https://colab.research.google.com/notebooks/data_table.ipynb>data table notebook</a>'\n",
              "            + ' to learn more about interactive tables.';\n",
              "          element.innerHTML = '';\n",
              "          dataTable['output_type'] = 'display_data';\n",
              "          await google.colab.output.renderOutput(dataTable, element);\n",
              "          const docLink = document.createElement('div');\n",
              "          docLink.innerHTML = docLinkHtml;\n",
              "          element.appendChild(docLink);\n",
              "        }\n",
              "      </script>\n",
              "    </div>\n",
              "  </div>\n",
              "  "
            ]
          },
          "metadata": {},
          "execution_count": 168
        }
      ]
    },
    {
      "cell_type": "markdown",
      "source": [
        "### Save and Submit your work\n",
        "\n",
        "When the assignment is complete, download your notebook as a .ipynb file and submit it on the learning platform."
      ],
      "metadata": {
        "id": "KTxksnlTBQgE"
      }
    }
  ]
}